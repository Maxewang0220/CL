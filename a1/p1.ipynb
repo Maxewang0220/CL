{
 "cells": [
  {
   "cell_type": "code",
   "execution_count": null,
   "outputs": [],
   "source": [
    "import matplotlib.pyplot as plt"
   ],
   "metadata": {
    "collapsed": false
   },
   "id": "b5516e284b29db8b"
  },
  {
   "cell_type": "code",
   "execution_count": null,
   "outputs": [],
   "source": [
    "# # read corpus from file\n",
    "def read_file(file_path):\n",
    "    file_path = file_path\n",
    "    words = []\n",
    "    with open(file_path, \"r\", encoding='utf-8') as file:\n",
    "        for line in file:\n",
    "            line_tokens = line.lower().split(\" \")\n",
    "            words += line_tokens\n",
    "    return words"
   ],
   "metadata": {
    "collapsed": false
   },
   "id": "369fbb9f5af6efef"
  },
  {
   "cell_type": "code",
   "execution_count": null,
   "outputs": [],
   "source": [
    "# # count word occur times\n",
    "def word_count(words):\n",
    "    word_dict = dict()\n",
    "    for word in words:\n",
    "        if word in word_dict:\n",
    "            word_dict[word] += 1\n",
    "        else:\n",
    "            word_dict[word] = 1\n",
    "\n",
    "    word_dict = sorted(word_dict.items(), key=lambda e: e[1], reverse=True)\n",
    "    return word_dict"
   ],
   "metadata": {
    "collapsed": false
   },
   "id": "3426bd12b6469874"
  },
  {
   "cell_type": "code",
   "execution_count": null,
   "outputs": [],
   "source": [
    "def show_plot(word_dict):\n",
    "    # # show plot with linear axes\n",
    "    plt.figure(figsize=(10, 5))\n",
    "    plt.plot([t[1] for t in word_dict])\n",
    "    plt.title('zipf frequency')\n",
    "    plt.xlabel('rank position')\n",
    "    plt.ylabel('word frequency')\n",
    "    plt.show()\n",
    "    \n",
    "    # # show plot with log-log axes\n",
    "    plt.figure(figsize=(10, 5))\n",
    "    plt.loglog([t[1] for t in word_dict])\n",
    "    plt.title('zipf frequency')\n",
    "    plt.xlabel('rank position')\n",
    "    plt.ylabel('word frequency')\n",
    "    plt.show()"
   ],
   "metadata": {
    "collapsed": false
   },
   "id": "9788b3e707e8b1c3"
  },
  {
   "cell_type": "code",
   "execution_count": null,
   "outputs": [],
   "source": [
    "file_path1 = './kingjamesbible_tokenized.txt'\n",
    "\n",
    "words1 = read_file(file_path1)\n",
    "word_dict1 = word_count(words1)\n",
    "\n",
    "print(\"words len:\", len(words1))\n",
    "print(\"dict len:\", len(word_dict1))\n",
    "# # verify if successfully read the corpus\n",
    "print(word_dict1[:10])\n",
    "\n",
    "show_plot(word_dict1)"
   ],
   "metadata": {
    "collapsed": false
   },
   "id": "initial_id"
  },
  {
   "cell_type": "code",
   "execution_count": null,
   "outputs": [],
   "source": [
    "file_path2 = './junglebook.txt'\n",
    "\n",
    "words2 = read_file(file_path2)\n",
    "word_dict2 = word_count(words2)\n",
    "\n",
    "print(\"words len:\", len(words2))\n",
    "print(\"dict len:\", len(word_dict2))\n",
    "print(word_dict2[:10])\n",
    "\n",
    "show_plot(word_dict2)"
   ],
   "metadata": {
    "collapsed": false
   },
   "id": "1fd273fbc9afb074"
  },
  {
   "cell_type": "code",
   "execution_count": null,
   "outputs": [],
   "source": [
    "file_path3 = './setimes/SETIMES.bg-tr.bg'\n",
    "\n",
    "words3 = read_file(file_path3)\n",
    "word_dict3 = word_count(words3)\n",
    "\n",
    "print(\"words len:\", len(words3))\n",
    "print(\"dict len:\", len(word_dict3))\n",
    "print(word_dict3[:10])\n",
    "\n",
    "show_plot(word_dict3)"
   ],
   "metadata": {
    "collapsed": false
   },
   "id": "239906951936f390"
  },
  {
   "cell_type": "code",
   "execution_count": null,
   "outputs": [],
   "source": [
    "file_path4 = './setimes/SETIMES.bg-tr.tr'\n",
    "\n",
    "words4 = read_file(file_path4)\n",
    "word_dict4 = word_count(words4)\n",
    "\n",
    "print(\"words len:\", len(words4))\n",
    "print(\"dict len:\", len(word_dict4))\n",
    "print(word_dict4[:10])\n",
    "\n",
    "show_plot(word_dict4)"
   ],
   "metadata": {
    "collapsed": false
   },
   "id": "27934a1b78e647db"
  }
 ],
 "metadata": {
  "kernelspec": {
   "display_name": "Python 3",
   "language": "python",
   "name": "python3"
  },
  "language_info": {
   "codemirror_mode": {
    "name": "ipython",
    "version": 2
   },
   "file_extension": ".py",
   "mimetype": "text/x-python",
   "name": "python",
   "nbconvert_exporter": "python",
   "pygments_lexer": "ipython2",
   "version": "2.7.6"
  }
 },
 "nbformat": 4,
 "nbformat_minor": 5
}
