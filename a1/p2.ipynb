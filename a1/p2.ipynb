{
 "cells": [
  {
   "cell_type": "code",
   "execution_count": 54,
   "outputs": [],
   "source": [
    "from nltk.probability import (FreqDist, ConditionalFreqDist, ConditionalProbDist, MLEProbDist, SimpleGoodTuringProbDist)\n",
    "from nltk.util import ngrams"
   ],
   "metadata": {
    "collapsed": false,
    "ExecuteTime": {
     "end_time": "2024-08-28T04:11:15.747860910Z",
     "start_time": "2024-08-28T04:11:15.706020243Z"
    }
   },
   "id": "685d43fdbf9b50ac"
  },
  {
   "cell_type": "code",
   "execution_count": 55,
   "outputs": [],
   "source": [
    "def ml_estimator(freqdist):\n",
    "    return MLEProbDist(freqdist)\n",
    "\n",
    "\n",
    "def goodturing_estimator(freqdist):\n",
    "    return SimpleGoodTuringProbDist(freqdist)\n",
    "\n",
    "def read_file(file_path):\n",
    "    file_path = file_path\n",
    "    words = []\n",
    "    with open(file_path, \"r\", encoding='utf-8') as file:\n",
    "        for line in file:\n",
    "            line_tokens = line.lower().split(\" \")\n",
    "            words += line_tokens\n",
    "    return words\n",
    "\n",
    "def generate_text(ngram, n, length=100):\n",
    "    context = tuple([ngram._start_symbol] * (n - 1))\n",
    "    result = list(context)\n",
    "    for i in range(length):\n",
    "        if context in ngram._counter:\n",
    "            prob_dist = ngram[context]\n",
    "            word = prob_dist.generate()\n",
    "        else:\n",
    "            word = ngram._end_symbol\n",
    "            \n",
    "        result.append(word)\n",
    "        \n",
    "        if word == ngram._end_symbol:\n",
    "            break\n",
    "        context = tuple(result[-(n-1):])\n",
    "    return ' '.join(result)"
   ],
   "metadata": {
    "collapsed": false,
    "ExecuteTime": {
     "end_time": "2024-08-28T04:11:15.748159567Z",
     "start_time": "2024-08-28T04:11:15.747742750Z"
    }
   },
   "id": "73c61270bc49e1cb"
  },
  {
   "cell_type": "code",
   "execution_count": 56,
   "outputs": [],
   "source": [
    "class BasicNgram(ConditionalProbDist):\n",
    "    \"\"\"\n",
    "    Define and train an Ngram Model over the corpus represented by the list words. \n",
    "    Given an BasicNgram instance ngram and a (n-1)-gram context (i.e., a tuple of n-1 strings), \n",
    "    a call to ngram[context] returns a nltk.probability.ProbDistI object representing the Probability distribution P(.|context) over possible values for the next word. \n",
    "    Be aware that context has to be a tuple, even if context is a unigram (see example below)\n",
    "    \n",
    "    >>> corpus=['a','b','b','a']\n",
    "    >>> bigram=BasicNgram(2,corpus)\n",
    "    >>> bigram.contexts()\n",
    "    [('<$>',), ('a',), ('b',)]\n",
    "    >>> p_b=bigram[('b',)] #not bigram['b']!!!\n",
    "    >>> p_b.prob('a')\n",
    "    0.5\n",
    "    >>> p_b.prob('b')\n",
    "    0.5\n",
    "    \n",
    "    :param n: the dimension of the n-grams (i.e. the size of the context+1).\n",
    "    :type n: int\n",
    "    :param corpus: \n",
    "    :type corpus: list(Str)\n",
    "    \n",
    "    other parameters are optional and may be omitted. They define whether to add artificial symbols before or after the word list, \n",
    "    and whether to use another estimation methods than maximum likelihood.\n",
    "    \"\"\"\n",
    "\n",
    "    def __init__(self, n, words, start_symbol=\"<$>\", end_symbol=\"</$>\", pad_left=True, pad_right=False,\n",
    "                 estimator=ml_estimator):\n",
    "        assert (n > 0)\n",
    "        self._n = n\n",
    "        self._words = words\n",
    "        self._counter = ConditionalFreqDist()\n",
    "        self._start_symbol = start_symbol\n",
    "        self._end_symbol = end_symbol\n",
    "        self._pad_left = pad_left\n",
    "        self._pad_right = pad_right\n",
    "        self._train()\n",
    "        super().__init__(self._counter, estimator)\n",
    "\n",
    "    def _train(self):\n",
    "        _ngrams = self.generate_ngrams()\n",
    "        for ngram in _ngrams:\n",
    "            context = ngram[0:-1]\n",
    "            outcome = ngram[-1]\n",
    "            self._counter[context][outcome] += 1\n",
    "\n",
    "    \"\"\"\n",
    "    returns an iterable over the ngrams of the word corpus\n",
    "    \"\"\"\n",
    "\n",
    "    def generate_ngrams(self):\n",
    "        return ngrams(self._words, self._n, pad_left=self._pad_left, pad_right=self._pad_right,\n",
    "                      left_pad_symbol=self._start_symbol,\n",
    "                      right_pad_symbol=self._end_symbol)\n",
    "\n",
    "    \"\"\"                                                                                                                                                                                                                                                                                                                                                               \n",
    "    Return the list of contexts                                                                                                                                                                                                                                                                                                                                       \n",
    "    \"\"\"\n",
    "\n",
    "    def contexts(self):\n",
    "        return list(self.conditions())"
   ],
   "metadata": {
    "collapsed": false,
    "ExecuteTime": {
     "end_time": "2024-08-28T04:11:15.748559182Z",
     "start_time": "2024-08-28T04:11:15.748005170Z"
    }
   },
   "id": "25ae1769e1b96d0c"
  },
  {
   "cell_type": "code",
   "execution_count": 57,
   "outputs": [
    {
     "name": "stdout",
     "output_type": "stream",
     "text": [
      "['in', 'the', 'beginning', 'god', 'created', 'the', 'heaven', 'and', 'the', 'earth', '.\\n', 'and', 'the', 'earth', 'was']\n"
     ]
    }
   ],
   "source": [
    "file_path = './kingjamesbible_tokenized.txt'\n",
    "\n",
    "corpus = read_file(file_path)\n",
    "\n",
    "print(corpus[:15])"
   ],
   "metadata": {
    "collapsed": false,
    "ExecuteTime": {
     "end_time": "2024-08-28T04:11:15.772008852Z",
     "start_time": "2024-08-28T04:11:15.748137346Z"
    }
   },
   "id": "83134bca62398573"
  },
  {
   "cell_type": "code",
   "execution_count": 58,
   "outputs": [
    {
     "data": {
      "text/plain": "[('<$>',),\n ('in',),\n ('the',),\n ('beginning',),\n ('god',),\n ('created',),\n ('heaven',),\n ('and',),\n ('earth',),\n ('.\\n',),\n ('was',),\n ('without',),\n ('form',),\n (',',),\n ('void',),\n (';',),\n ('darkness',),\n ('upon',),\n ('face',),\n ('of',),\n ('deep',),\n ('.',),\n ('spirit',),\n ('moved',),\n ('waters',),\n ('said',),\n ('let',),\n ('there',),\n ('be',),\n ('light',),\n (':',),\n ('saw',),\n ('that',),\n ('it',),\n ('good',),\n ('divided',),\n ('from',),\n ('called',),\n ('day',),\n ('he',),\n ('night',),\n ('evening',),\n ('morning',),\n ('were',),\n ('first',),\n ('a',),\n ('firmament',),\n ('midst',),\n ('divide',),\n ('made',),\n ('which',),\n ('under',),\n ('above',),\n ('so',),\n ('second',),\n ('gathered',),\n ('together',),\n ('unto',),\n ('one',),\n ('place',),\n ('dry',),\n ('land',),\n ('appear',),\n ('gathering',),\n ('seas',),\n ('bring',),\n ('forth',),\n ('grass',),\n ('herb',),\n ('yielding',),\n ('seed',),\n ('fruit',),\n ('tree',),\n ('after',),\n ('his',),\n ('kind',),\n ('whose',),\n ('is',),\n ('itself',),\n ('brought',),\n ('third',),\n ('lights',),\n ('to',),\n ('them',),\n ('for',),\n ('signs',),\n ('seasons',),\n ('days',),\n ('years',),\n (':\\n',),\n ('give',),\n ('two',),\n ('great',),\n ('greater',),\n ('rule',),\n ('lesser',),\n ('stars',),\n ('also',),\n ('set',),\n (',\\n',),\n ('over',),\n ('fourth',),\n ('abundantly',),\n ('moving',),\n ('creature',),\n ('hath',),\n ('life',),\n ('fowl',),\n ('may',),\n ('fly',),\n ('open',),\n ('whales',),\n ('every',),\n ('living',),\n ('moveth',),\n ('their',),\n ('winged',),\n ('blessed',),\n ('saying',),\n ('fruitful',),\n ('multiply',),\n ('fill',),\n ('fifth',),\n ('cattle',),\n ('creeping',),\n ('thing',),\n ('beast',),\n ('creepeth',),\n ('us',),\n ('make',),\n ('man',),\n ('our',),\n ('image',),\n ('likeness',),\n ('have',),\n ('dominion',),\n ('fish',),\n ('sea',),\n ('air',),\n ('all',),\n ('own',),\n ('him',),\n ('male',),\n ('female',),\n ('replenish',),\n ('subdue',),\n ('behold',),\n ('i',),\n ('given',),\n ('you',),\n ('bearing',),\n ('shall',),\n ('meat',),\n ('wherein',),\n ('green',),\n ('had',),\n ('very',),\n ('sixth',),\n ('thus',),\n ('heavens',),\n ('finished',),\n ('host',),\n ('on',),\n ('seventh',),\n ('ended',),\n ('work',),\n ('rested',),\n ('sanctified',),\n ('because',),\n ('these',),\n ('are',),\n ('generations',),\n ('when',),\n ('they',),\n ('lord',),\n ('plant',),\n ('field',),\n ('before',),\n ('grew',),\n ('not',),\n ('caused',),\n ('rain',),\n ('till',),\n ('ground',),\n ('but',),\n ('went',),\n ('up',),\n ('mist',),\n ('watered',),\n ('whole',),\n ('formed',),\n ('dust',),\n ('breathed',),\n ('into',),\n ('nostrils',),\n ('breath',),\n ('became',),\n ('soul',),\n ('planted',),\n ('garden',),\n ('eastward',),\n ('eden',),\n ('put',),\n ('whom',),\n ('out',),\n ('grow',),\n ('pleasant',),\n ('sight',),\n ('food',),\n ('knowledge',),\n ('evil',),\n ('river',),\n ('water',),\n ('thence',),\n ('parted',),\n ('four',),\n ('heads',),\n ('name',),\n ('pison',),\n ('compasseth',),\n ('havilah',),\n ('where',),\n ('gold',),\n (';\\n',),\n ('bdellium',),\n ('onyx',),\n ('stone',),\n ('gihon',),\n ('same',),\n ('ethiopia',),\n ('hiddekel',),\n ('goeth',),\n ('toward',),\n ('east',),\n ('assyria',),\n ('euphrates',),\n ('took',),\n ('dress',),\n ('keep',),\n ('commanded',),\n ('thou',),\n ('mayest',),\n ('freely',),\n ('eat',),\n ('shalt',),\n ('eatest',),\n ('thereof',),\n ('surely',),\n ('die',),\n ('should',),\n ('alone',),\n ('will',),\n ('an',),\n ('help',),\n ('meet',),\n ('adam',),\n ('see',),\n ('what',),\n ('would',),\n ('call',),\n ('whatsoever',),\n ('gave',),\n ('names',),\n ('found',),\n ('sleep',),\n ('fall',),\n ('slept',),\n ('ribs',),\n ('closed',),\n ('flesh',),\n ('instead',),\n ('rib',),\n ('taken',),\n ('woman',),\n ('her',),\n ('this',),\n ('now',),\n ('bone',),\n ('my',),\n ('bones',),\n ('she',),\n ('therefore',),\n ('leave',),\n ('father',),\n ('mother',),\n ('cleave',),\n ('wife',),\n ('both',),\n ('naked',),\n ('ashamed',),\n ('serpent',),\n ('more',),\n ('subtil',),\n ('than',),\n ('any',),\n ('yea',),\n ('ye',),\n ('?\\n',),\n ('we',),\n ('trees',),\n ('neither',),\n ('touch',),\n ('lest',),\n ('doth',),\n ('know',),\n ('then',),\n ('your',),\n ('eyes',),\n ('opened',),\n ('as',),\n ('gods',),\n ('knowing',),\n ('desired',),\n ('wise',),\n ('did',),\n ('husband',),\n ('with',),\n ('knew',),\n ('sewed',),\n ('fig',),\n ('leaves',),\n ('themselves',),\n ('aprons',),\n ('heard',),\n ('voice',),\n ('walking',),\n ('cool',),\n ('hid',),\n ('presence',),\n ('amongst',),\n ('art',),\n ('thy',),\n ('afraid',),\n ('myself',),\n ('who',),\n ('told',),\n ('thee',),\n ('wast',),\n ('?',),\n ('hast',),\n ('eaten',),\n ('whereof',),\n ('shouldest',),\n ('gavest',),\n ('me',),\n ('done',),\n ('beguiled',),\n ('cursed',),\n ('belly',),\n ('go',),\n ('enmity',),\n ('between',),\n ('bruise',),\n ('head',),\n ('heel',),\n ('greatly',),\n ('sorrow',),\n ('conception',),\n ('children',),\n ('desire',),\n ('hearkened',),\n ('sake',),\n ('thorns',),\n ('thistles',),\n ('sweat',),\n ('bread',),\n ('return',),\n (\"'s\",),\n ('eve',),\n ('coats',),\n ('skins',),\n ('clothed',),\n ('become',),\n ('hand',),\n ('take',),\n ('live',),\n ('ever',),\n ('sent',),\n ('whence',),\n ('drove',),\n ('placed',),\n ('at',),\n ('cherubims',),\n ('flaming',),\n ('sword',),\n ('turned',),\n ('way',),\n ('conceived',),\n ('bare',),\n ('cain',),\n ('gotten',),\n ('again',),\n ('brother',),\n ('abel',),\n ('keeper',),\n ('sheep',),\n ('tiller',),\n ('process',),\n ('time',),\n ('came',),\n ('pass',),\n ('offering',),\n ('firstlings',),\n ('flock',),\n ('fat',),\n ('respect',),\n ('wroth',),\n ('countenance',),\n ('fell',),\n ('why',),\n ('fallen',),\n ('if',),\n ('doest',),\n ('well',),\n ('accepted',),\n ('sin',),\n ('lieth',),\n ('door',),\n ('talked',),\n ('rose',),\n ('against',),\n ('slew',),\n ('am',),\n ('blood',),\n ('crieth',),\n ('mouth',),\n ('receive',),\n ('tillest',),\n ('henceforth',),\n ('yield',),\n ('strength',),\n ('fugitive',),\n ('vagabond',),\n ('punishment',),\n ('can',),\n ('bear',),\n ('driven',),\n ('come',),\n ('findeth',),\n ('slay',),\n ('whosoever',),\n ('slayeth',),\n ('vengeance',),\n ('sevenfold',),\n ('mark',),\n ('finding',),\n ('kill',),\n ('dwelt',),\n ('nod',),\n ('enoch',),\n ('builded',),\n ('city',),\n ('son',),\n ('born',),\n ('irad',),\n ('begat',),\n ('mehujael',),\n ('methusael',),\n ('lamech',),\n ('wives',),\n ('adah',),\n ('other',),\n ('zillah',),\n ('jabal',),\n ('such',),\n ('dwell',),\n ('tents',),\n ('jubal',),\n ('handle',),\n ('harp',),\n ('organ',),\n ('tubalcain',),\n ('instructer',),\n ('artificer',),\n ('brass',),\n ('iron',),\n ('sister',),\n ('naamah',),\n ('hear',),\n ('hearken',),\n ('speech',),\n ('slain',),\n ('wounding',),\n ('young',),\n ('hurt',),\n ('avenged',),\n ('truly',),\n ('seventy',),\n ('seth',),\n ('appointed',),\n ('another',),\n ('enos',),\n ('began',),\n ('men',),\n ('book',),\n ('lived',),\n ('hundred',),\n ('thirty',),\n ('begotten',),\n ('eight',),\n ('sons',),\n ('daughters',),\n ('nine',),\n ('died',),\n ('five',),\n ('seven',),\n ('twelve',),\n ('ninety',),\n ('cainan',),\n ('fifteen',),\n ('mahalaleel',),\n ('forty',),\n ('ten',),\n ('sixty',),\n ('jared',),\n ('methuselah',),\n ('walked',),\n ('three',),\n ('eighty',),\n ('noah',),\n ('comfort',),\n ('concerning',),\n ('toil',),\n ('hands',),\n ('old',),\n ('shem',),\n ('ham',),\n ('japheth',),\n ('fair',),\n ('chose',),\n ('always',),\n ('strive',),\n ('yet',),\n ('twenty',),\n ('giants',),\n ('those',),\n ('mighty',),\n ('renown',),\n ('wickedness',),\n ('imagination',),\n ('thoughts',),\n ('heart',),\n ('only',),\n ('continually',),\n ('repented',),\n ('grieved',),\n ('destroy',),\n ('fowls',),\n ('repenteth',),\n ('grace',),\n ('just',),\n ('perfect',),\n ('corrupt',),\n ('filled',),\n ('violence',),\n ('looked',),\n ('corrupted',),\n ('end',),\n ('through',),\n ('ark',),\n ('gopher',),\n ('wood',),\n ('rooms',),\n ('pitch',),\n ('within',),\n ('fashion',),\n ('length',),\n ('cubits',),\n ('breadth',),\n ('fifty',),\n ('height',),\n ('window',),\n ('cubit',),\n ('finish',),\n ('side',),\n ('lower',),\n ('stories',),\n ('even',),\n ('do',),\n ('flood',),\n ('establish',),\n ('covenant',),\n (\"'\",),\n ('sort',),\n ('alive',),\n ('gather',),\n ('according',),\n ('house',),\n ('seen',),\n ('righteous',),\n ('generation',),\n ('clean',),\n ('by',),\n ('sevens',),\n ('beasts',),\n ('cause',),\n ('nights',),\n ('substance',),\n ('off',),\n ('six',),\n ('hundredth',),\n ('year',),\n ('month',),\n ('seventeenth',),\n ('fountains',),\n ('broken',),\n ('windows',),\n ('selfsame',),\n ('entered',),\n ('bird',),\n ('shut',),\n ('increased',),\n ('lift',),\n ('prevailed',),\n ('exceedingly',),\n ('high',),\n ('hills',),\n ('covered',),\n ('upward',),\n ('prevail',),\n ('mountains',),\n ('destroyed',),\n ('things',),\n ('remained',),\n ('remembered',),\n ('wind',),\n ('asswaged',),\n ('stopped',),\n ('restrained',),\n ('returned',),\n ('abated',),\n ('ararat',),\n ('decreased',),\n ('until',),\n ('tenth',),\n ('tops',),\n ('raven',),\n ('fro',),\n ('dried',),\n ('dove',),\n ('no',),\n ('rest',),\n ('sole',),\n ('foot',),\n ('pulled',),\n ('stayed',),\n ('lo',),\n ('olive',),\n ('leaf',),\n ('pluckt',),\n ('removed',),\n ('covering',),\n ('twentieth',),\n ('spake',),\n ('breed',),\n ('kinds',),\n ('altar',),\n ('offered',),\n ('burnt',),\n ('offerings',),\n ('smelled',),\n ('sweet',),\n ('savour',),\n ('curse',),\n ('youth',),\n ('smite',),\n ('while',),\n ('remaineth',),\n ('seedtime',),\n ('harvest',),\n ('cold',),\n ('heat',),\n ('summer',),\n ('winter',),\n ('cease',),\n ('fear',),\n ('dread',),\n ('fishes',),\n ('delivered',),\n ('liveth',),\n ('lives',),\n ('require',),\n ('whoso',),\n ('sheddeth',),\n ('shed',),\n ('therein',),\n ('cut',),\n ('token',),\n ('perpetual',),\n ('bow',),\n ('cloud',),\n ('remember',),\n ('look',),\n ('everlasting',),\n ('established',),\n ('canaan',),\n ('overspread',),\n ('husbandman',),\n ('vineyard',),\n ('drank',),\n ('wine',),\n ('drunken',),\n ('uncovered',),\n ('tent',),\n ('nakedness',),\n ('brethren',),\n ('garment',),\n ('laid',),\n ('shoulders',),\n ('backward',),\n ('faces',),\n ('awoke',),\n ('younger',),\n ('servant',),\n ('servants',),\n ('enlarge',),\n ('gomer',),\n ('magog',),\n ('madai',),\n ('javan',),\n ('tubal',),\n ('meshech',),\n ('tiras',),\n ('ashkenaz',),\n ('riphath',),\n ('togarmah',),\n ('elishah',),\n ('tarshish',),\n ('kittim',),\n ('dodanim',),\n ('isles',),\n ('gentiles',),\n ('lands',),\n ('tongue',),\n ('families',),\n ('nations',),\n ('cush',),\n ('mizraim',),\n ('phut',),\n ('seba',),\n ('sabtah',),\n ('raamah',),\n ('sabtechah',),\n ('sheba',),\n ('dedan',),\n ('nimrod',),\n ('hunter',),\n ('wherefore',),\n ('kingdom',),\n ('babel',),\n ('erech',),\n ('accad',),\n ('calneh',),\n ('shinar',),\n ('asshur',),\n ('nineveh',),\n ('rehoboth',),\n ('calah',),\n ('resen',),\n ('ludim',),\n ('anamim',),\n ('lehabim',),\n ('naphtuhim',),\n ('pathrusim',),\n ('casluhim',),\n ('(',),\n ('philistim',),\n (')',),\n ('caphtorim',),\n ('sidon',),\n ('heth',),\n ('jebusite',),\n ('amorite',),\n ('girgasite',),\n ('hivite',),\n ('arkite',),\n ('sinite',),\n ('arvadite',),\n ('zemarite',),\n ('hamathite',),\n ('afterward',),\n ('canaanites',),\n ('spread',),\n ('abroad',),\n ('border',),\n ('comest',),\n ('gerar',),\n ('gaza',),\n ('goest',),\n ('sodom',),\n ('gomorrah',),\n ('admah',),\n ('zeboim',),\n ('lasha',),\n ('tongues',),\n ('countries',),\n ('eber',),\n ('elder',),\n ('elam',),\n ('arphaxad',),\n ('lud',),\n ('aram',),\n ('uz',),\n ('hul',),\n ('gether',),\n ('mash',),\n ('salah',),\n ('peleg',),\n ('joktan',),\n ('almodad',),\n ('sheleph',),\n ('hazarmaveth',),\n ('jerah',),\n ('hadoram',),\n ('uzal',),\n ('diklah',),\n ('obal',),\n ('abimael',),\n ('ophir',),\n ('jobab',),\n ('dwelling',),\n ('mesha',),\n ('sephar',),\n ('mount',),\n ('language',),\n ('journeyed',),\n ('plain',),\n ('brick',),\n ('burn',),\n ('thoroughly',),\n ('slime',),\n ('morter',),\n ('build',),\n ('tower',),\n ('top',),\n ('reach',),\n ('scattered',),\n ('down',),\n ('people',),\n ('begin',),\n ('nothing',),\n ('imagined',),\n ('confound',),\n ('understand',),\n ('left',),\n ('scatter',),\n ('reu',),\n ('serug',),\n ('nahor',),\n ('terah',),\n ('nineteen',),\n ('abram',),\n ('haran',),\n ('lot',),\n ('nativity',),\n ('ur',),\n ('chaldees',),\n ('sarai',),\n ('milcah',),\n ('daughter',),\n ('iscah',),\n ('barren',),\n ('child',),\n ('law',),\n ('get',),\n ('country',),\n ('kindred',),\n ('shew',),\n ('nation',),\n ('bless',),\n ('blessing',),\n ('curseth',),\n ('departed',),\n ('spoken',),\n ('souls',),\n ('passed',),\n ('sichem',),\n ('moreh',),\n ('canaanite',),\n ('appeared',),\n ('mountain',),\n ('bethel',),\n ('pitched',),\n ('having',),\n ('west',),\n ('hai',),\n ('going',),\n ('still',),\n ('south',),\n ('famine',),\n ('egypt',),\n ('sojourn',),\n ('grievous',),\n ('near',),\n ('enter',),\n ('egyptians',),\n ('say',),\n ('save',),\n ('pray',),\n ('beheld',),\n ('princes',),\n ('pharaoh',),\n ('commended',),\n ('entreated',),\n ('oxen',),\n ('asses',),\n ('menservants',),\n ('maidservants',),\n ('camels',),\n ('plagued',),\n ('plagues',),\n ('didst',),\n ('tell',),\n ('saidst',),\n ('might',),\n ('away',),\n ('rich',),\n ('silver',),\n ('journeys',),\n ('been',),\n ('flocks',),\n ('herds',),\n ('able',),\n ('could',),\n ('strife',),\n ('herdmen',),\n ('perizzite',),\n ('dwelled',),\n ('separate',),\n ('thyself',),\n ('wilt',),\n ('right',),\n ('or',),\n ('depart',),\n ('lifted',),\n ('jordan',),\n ('like',),\n ('zoar',),\n ('separated',),\n ('cities',),\n ('wicked',),\n ('sinners',),\n ('thine',),\n ('northward',),\n ('southward',),\n ('westward',),\n ('seest',),\n ('number',),\n ('numbered',),\n ('arise',),\n ('walk',),\n ('mamre',),\n ('hebron',),\n ('built',),\n ('amraphel',),\n ('king',),\n ('arioch',),\n ('ellasar',),\n ('chedorlaomer',),\n ('tidal',),\n ('war',),\n ('bera',),\n ('birsha',),\n ('shinab',),\n ('shemeber',),\n ('zeboiim',),\n ('bela',),\n ('joined',),\n ('vale',),\n ('siddim',),\n ('salt',),\n ('served',),\n ('thirteenth',),\n ('rebelled',),\n ('fourteenth',),\n ('kings',),\n ('smote',),\n ('rephaims',),\n ('ashteroth',),\n ('karnaim',),\n ('zuzims',),\n ('emins',),\n ('shaveh',),\n ('kiriathaim',),\n ('horites',),\n ('seir',),\n ('elparan',),\n ('wilderness',),\n ('enmishpat',),\n ('kadesh',),\n ('amalekites',),\n ('amorites',),\n ('hazezontamar',),\n ('battle',),\n ('full',),\n ('slimepits',),\n ('fled',),\n ('goods',),\n ('victuals',),\n ('escaped',),\n ...]"
     },
     "execution_count": 58,
     "metadata": {},
     "output_type": "execute_result"
    }
   ],
   "source": [
    "bigram = BasicNgram(2, corpus)\n",
    "\n",
    "bigram.contexts()"
   ],
   "metadata": {
    "collapsed": false,
    "ExecuteTime": {
     "end_time": "2024-08-28T04:11:16.637076552Z",
     "start_time": "2024-08-28T04:11:15.799518297Z"
    }
   },
   "id": "71f404dfc8d6225e"
  },
  {
   "cell_type": "code",
   "execution_count": 59,
   "outputs": [
    {
     "name": "stdout",
     "output_type": "stream",
     "text": [
      "101\n"
     ]
    },
    {
     "data": {
      "text/plain": "'<$> in spirit .\\n brethren pitched in believing , why leap , with ten shekels , he had gathered together , and be astonished .\\n but one of israel , nethaneel the lord of the deaf , and from jerusalem one of josiah , and he hath sent messengers again , i will punish the lord for a familiar spirits more .\\n pray thee glad when we are not eaten the lord ; neither shall be changed .\\n him with my bowels : they in the linen clothes also after his house of lebanon under ashdothpisgah , or , that thou'"
     },
     "execution_count": 59,
     "metadata": {},
     "output_type": "execute_result"
    }
   ],
   "source": [
    "generate_text(bigram, 2, 100)"
   ],
   "metadata": {
    "collapsed": false,
    "ExecuteTime": {
     "end_time": "2024-08-28T04:11:16.646652227Z",
     "start_time": "2024-08-28T04:11:16.644633109Z"
    }
   },
   "id": "fc7d65b2609956da"
  },
  {
   "cell_type": "code",
   "execution_count": 60,
   "outputs": [
    {
     "data": {
      "text/plain": "[('<$>', '<$>'),\n ('<$>', 'in'),\n ('in', 'the'),\n ('the', 'beginning'),\n ('beginning', 'god'),\n ('god', 'created'),\n ('created', 'the'),\n ('the', 'heaven'),\n ('heaven', 'and'),\n ('and', 'the'),\n ('the', 'earth'),\n ('earth', '.\\n'),\n ('.\\n', 'and'),\n ('earth', 'was'),\n ('was', 'without'),\n ('without', 'form'),\n ('form', ','),\n (',', 'and'),\n ('and', 'void'),\n ('void', ';'),\n (';', 'and'),\n ('and', 'darkness'),\n ('darkness', 'was'),\n ('was', 'upon'),\n ('upon', 'the'),\n ('the', 'face'),\n ('face', 'of'),\n ('of', 'the'),\n ('the', 'deep'),\n ('deep', '.'),\n ('.', 'and'),\n ('the', 'spirit'),\n ('spirit', 'of'),\n ('of', 'god'),\n ('god', 'moved'),\n ('moved', 'upon'),\n ('the', 'waters'),\n ('waters', '.\\n'),\n ('and', 'god'),\n ('god', 'said'),\n ('said', ','),\n (',', 'let'),\n ('let', 'there'),\n ('there', 'be'),\n ('be', 'light'),\n ('light', ':'),\n (':', 'and'),\n ('and', 'there'),\n ('there', 'was'),\n ('was', 'light'),\n ('light', '.\\n'),\n ('god', 'saw'),\n ('saw', 'the'),\n ('the', 'light'),\n ('light', ','),\n (',', 'that'),\n ('that', 'it'),\n ('it', 'was'),\n ('was', 'good'),\n ('good', ':'),\n ('god', 'divided'),\n ('divided', 'the'),\n ('light', 'from'),\n ('from', 'the'),\n ('the', 'darkness'),\n ('darkness', '.\\n'),\n ('god', 'called'),\n ('called', 'the'),\n ('light', 'day'),\n ('day', ','),\n ('darkness', 'he'),\n ('he', 'called'),\n ('called', 'night'),\n ('night', '.'),\n ('the', 'evening'),\n ('evening', 'and'),\n ('the', 'morning'),\n ('morning', 'were'),\n ('were', 'the'),\n ('the', 'first'),\n ('first', 'day'),\n ('day', '.\\n'),\n ('be', 'a'),\n ('a', 'firmament'),\n ('firmament', 'in'),\n ('the', 'midst'),\n ('midst', 'of'),\n ('waters', ','),\n ('and', 'let'),\n ('let', 'it'),\n ('it', 'divide'),\n ('divide', 'the'),\n ('waters', 'from'),\n ('god', 'made'),\n ('made', 'the'),\n ('the', 'firmament'),\n ('firmament', ','),\n ('and', 'divided'),\n ('waters', 'which'),\n ('which', 'were'),\n ('were', 'under'),\n ('under', 'the'),\n ('firmament', 'from'),\n ('were', 'above'),\n ('above', 'the'),\n ('firmament', ':'),\n ('and', 'it'),\n ('was', 'so'),\n ('so', '.\\n'),\n ('firmament', 'heaven'),\n ('heaven', '.'),\n ('the', 'second'),\n ('second', 'day'),\n ('let', 'the'),\n ('waters', 'under'),\n ('heaven', 'be'),\n ('be', 'gathered'),\n ('gathered', 'together'),\n ('together', 'unto'),\n ('unto', 'one'),\n ('one', 'place'),\n ('place', ','),\n ('the', 'dry'),\n ('dry', 'land'),\n ('land', 'appear'),\n ('appear', ':'),\n ('land', 'earth'),\n ('earth', ';'),\n ('the', 'gathering'),\n ('gathering', 'together'),\n ('together', 'of'),\n ('waters', 'called'),\n ('called', 'he'),\n ('he', 'seas'),\n ('seas', ':'),\n ('saw', 'that'),\n ('good', '.\\n'),\n ('earth', 'bring'),\n ('bring', 'forth'),\n ('forth', 'grass'),\n ('grass', ','),\n (',', 'the'),\n ('the', 'herb'),\n ('herb', 'yielding'),\n ('yielding', 'seed'),\n ('seed', ','),\n ('the', 'fruit'),\n ('fruit', 'tree'),\n ('tree', 'yielding'),\n ('yielding', 'fruit'),\n ('fruit', 'after'),\n ('after', 'his'),\n ('his', 'kind'),\n ('kind', ','),\n (',', 'whose'),\n ('whose', 'seed'),\n ('seed', 'is'),\n ('is', 'in'),\n ('in', 'itself'),\n ('itself', ','),\n (',', 'upon'),\n ('earth', ':'),\n ('earth', 'brought'),\n ('brought', 'forth'),\n ('and', 'herb'),\n ('seed', 'after'),\n ('the', 'tree'),\n ('fruit', ','),\n ('seed', 'was'),\n ('was', 'in'),\n (',', 'after'),\n ('kind', ':'),\n ('the', 'third'),\n ('third', 'day'),\n ('be', 'lights'),\n ('lights', 'in'),\n ('firmament', 'of'),\n ('heaven', 'to'),\n ('to', 'divide'),\n ('the', 'day'),\n ('day', 'from'),\n ('the', 'night'),\n ('night', ';'),\n ('let', 'them'),\n ('them', 'be'),\n ('be', 'for'),\n ('for', 'signs'),\n ('signs', ','),\n ('and', 'for'),\n ('for', 'seasons'),\n ('seasons', ','),\n ('for', 'days'),\n ('days', ','),\n ('and', 'years'),\n ('years', ':\\n'),\n (':\\n', 'and'),\n ('for', 'lights'),\n ('to', 'give'),\n ('give', 'light'),\n ('light', 'upon'),\n ('made', 'two'),\n ('two', 'great'),\n ('great', 'lights'),\n ('lights', ';'),\n (';', 'the'),\n ('the', 'greater'),\n ('greater', 'light'),\n ('light', 'to'),\n ('to', 'rule'),\n ('rule', 'the'),\n ('the', 'lesser'),\n ('lesser', 'light'),\n ('night', ':'),\n (':', 'he'),\n ('he', 'made'),\n ('the', 'stars'),\n ('stars', 'also'),\n ('also', '.\\n'),\n ('god', 'set'),\n ('set', 'them'),\n ('them', 'in'),\n ('earth', ',\\n'),\n (',\\n', 'and'),\n ('and', 'to'),\n ('rule', 'over'),\n ('over', 'the'),\n ('day', 'and'),\n ('and', 'over'),\n ('night', ','),\n ('darkness', ':'),\n ('the', 'fourth'),\n ('fourth', 'day'),\n ('waters', 'bring'),\n ('forth', 'abundantly'),\n ('abundantly', 'the'),\n ('the', 'moving'),\n ('moving', 'creature'),\n ('creature', 'that'),\n ('that', 'hath'),\n ('hath', 'life'),\n ('life', ','),\n ('and', 'fowl'),\n ('fowl', 'that'),\n ('that', 'may'),\n ('may', 'fly'),\n ('fly', 'above'),\n ('earth', 'in'),\n ('the', 'open'),\n ('open', 'firmament'),\n ('of', 'heaven'),\n ('heaven', '.\\n'),\n ('created', 'great'),\n ('great', 'whales'),\n ('whales', ','),\n ('and', 'every'),\n ('every', 'living'),\n ('living', 'creature'),\n ('that', 'moveth'),\n ('moveth', ','),\n (',', 'which'),\n ('which', 'the'),\n ('waters', 'brought'),\n ('abundantly', ','),\n ('after', 'their'),\n ('their', 'kind'),\n ('every', 'winged'),\n ('winged', 'fowl'),\n ('fowl', 'after'),\n ('god', 'blessed'),\n ('blessed', 'them'),\n ('them', ','),\n (',', 'saying'),\n ('saying', ','),\n (',', 'be'),\n ('be', 'fruitful'),\n ('fruitful', ','),\n ('and', 'multiply'),\n ('multiply', ','),\n ('and', 'fill'),\n ('fill', 'the'),\n ('waters', 'in'),\n ('the', 'seas'),\n ('seas', ','),\n ('let', 'fowl'),\n ('fowl', 'multiply'),\n ('multiply', 'in'),\n ('the', 'fifth'),\n ('fifth', 'day'),\n ('forth', 'the'),\n ('the', 'living'),\n ('creature', 'after'),\n (',', 'cattle'),\n ('cattle', ','),\n ('and', 'creeping'),\n ('creeping', 'thing'),\n ('thing', ','),\n ('and', 'beast'),\n ('beast', 'of'),\n ('earth', 'after'),\n ('the', 'beast'),\n ('and', 'cattle'),\n ('cattle', 'after'),\n ('every', 'thing'),\n ('thing', 'that'),\n ('that', 'creepeth'),\n ('creepeth', 'upon'),\n ('let', 'us'),\n ('us', 'make'),\n ('make', 'man'),\n ('man', 'in'),\n ('in', 'our'),\n ('our', 'image'),\n ('image', ','),\n ('after', 'our'),\n ('our', 'likeness'),\n ('likeness', ':'),\n ('them', 'have'),\n ('have', 'dominion'),\n ('dominion', 'over'),\n ('the', 'fish'),\n ('fish', 'of'),\n ('the', 'sea'),\n ('sea', ','),\n ('the', 'fowl'),\n ('fowl', 'of'),\n ('the', 'air'),\n ('air', ','),\n ('the', 'cattle'),\n ('over', 'all'),\n ('all', 'the'),\n ('earth', ','),\n ('over', 'every'),\n ('every', 'creeping'),\n ('.\\n', 'so'),\n ('so', 'god'),\n ('created', 'man'),\n ('in', 'his'),\n ('his', 'own'),\n ('own', 'image'),\n (',', 'in'),\n ('the', 'image'),\n ('image', 'of'),\n ('created', 'he'),\n ('he', 'him'),\n ('him', ';'),\n (';', 'male'),\n ('male', 'and'),\n ('and', 'female'),\n ('female', 'created'),\n ('he', 'them'),\n ('them', '.\\n'),\n ('said', 'unto'),\n ('unto', 'them'),\n ('and', 'replenish'),\n ('replenish', 'the'),\n ('and', 'subdue'),\n ('subdue', 'it'),\n ('it', ':'),\n ('and', 'have'),\n ('living', 'thing'),\n ('moveth', 'upon'),\n (',', 'behold'),\n ('behold', ','),\n (',', 'i'),\n ('i', 'have'),\n ('have', 'given'),\n ('given', 'you'),\n ('you', 'every'),\n ('every', 'herb'),\n ('herb', 'bearing'),\n ('bearing', 'seed'),\n ('which', 'is'),\n ('is', 'upon'),\n ('of', 'all'),\n ('every', 'tree'),\n ('tree', ','),\n ('the', 'which'),\n ('is', 'the'),\n ('fruit', 'of'),\n ('of', 'a'),\n ('a', 'tree'),\n ('seed', ';'),\n (';', 'to'),\n ('to', 'you'),\n ('you', 'it'),\n ('it', 'shall'),\n ('shall', 'be'),\n ('for', 'meat'),\n ('meat', '.\\n'),\n ('to', 'every'),\n ('every', 'beast'),\n ('every', 'fowl'),\n (',', 'wherein'),\n ('wherein', 'there'),\n ('there', 'is'),\n ('is', 'life'),\n ('given', 'every'),\n ('every', 'green'),\n ('green', 'herb'),\n ('herb', 'for'),\n ('meat', ':'),\n ('saw', 'every'),\n ('that', 'he'),\n ('he', 'had'),\n ('had', 'made'),\n ('made', ','),\n ('and', ','),\n (',', 'it'),\n ('was', 'very'),\n ('very', 'good'),\n ('good', '.'),\n ('the', 'sixth'),\n ('sixth', 'day'),\n ('.\\n', 'thus'),\n ('thus', 'the'),\n ('the', 'heavens'),\n ('heavens', 'and'),\n ('earth', 'were'),\n ('were', 'finished'),\n ('finished', ','),\n ('and', 'all'),\n ('the', 'host'),\n ('host', 'of'),\n ('of', 'them'),\n ('and', 'on'),\n ('on', 'the'),\n ('the', 'seventh'),\n ('seventh', 'day'),\n ('day', 'god'),\n ('god', 'ended'),\n ('ended', 'his'),\n ('his', 'work'),\n ('work', 'which'),\n ('which', 'he'),\n ('made', ';'),\n ('and', 'he'),\n ('he', 'rested'),\n ('rested', 'on'),\n ('from', 'all'),\n ('all', 'his'),\n ('made', '.\\n'),\n ('blessed', 'the'),\n ('and', 'sanctified'),\n ('sanctified', 'it'),\n (':', 'because'),\n ('because', 'that'),\n ('that', 'in'),\n ('in', 'it'),\n ('it', 'he'),\n ('had', 'rested'),\n ('rested', 'from'),\n ('which', 'god'),\n ('created', 'and'),\n ('and', 'made'),\n ('.\\n', 'these'),\n ('these', 'are'),\n ('are', 'the'),\n ('the', 'generations'),\n ('generations', 'of'),\n ('and', 'of'),\n ('earth', 'when'),\n ('when', 'they'),\n ('they', 'were'),\n ('were', 'created'),\n ('created', ','),\n ('day', 'that'),\n ('that', 'the'),\n ('the', 'lord'),\n ('lord', 'god'),\n ('earth', 'and'),\n ('heavens', ',\\n'),\n ('every', 'plant'),\n ('plant', 'of'),\n ('the', 'field'),\n ('field', 'before'),\n ('before', 'it'),\n ('herb', 'of'),\n ('it', 'grew'),\n ('grew', ':'),\n (':', 'for'),\n ('for', 'the'),\n ('god', 'had'),\n ('had', 'not'),\n ('not', 'caused'),\n ('caused', 'it'),\n ('it', 'to'),\n ('to', 'rain'),\n ('rain', 'upon'),\n ('was', 'not'),\n ('not', 'a'),\n ('a', 'man'),\n ('man', 'to'),\n ('to', 'till'),\n ('till', 'the'),\n ('the', 'ground'),\n ('ground', '.\\n'),\n ('.\\n', 'but'),\n ('but', 'there'),\n ('there', 'went'),\n ('went', 'up'),\n ('up', 'a'),\n ('a', 'mist'),\n ('mist', 'from'),\n ('and', 'watered'),\n ('watered', 'the'),\n ('the', 'whole'),\n ('whole', 'face'),\n ('god', 'formed'),\n ('formed', 'man'),\n ('man', 'of'),\n ('the', 'dust'),\n ('dust', 'of'),\n ('ground', ','),\n ('and', 'breathed'),\n ('breathed', 'into'),\n ('into', 'his'),\n ('his', 'nostrils'),\n ('nostrils', 'the'),\n ('the', 'breath'),\n ('breath', 'of'),\n ('of', 'life'),\n ('life', ';'),\n ('and', 'man'),\n ('man', 'became'),\n ('became', 'a'),\n ('a', 'living'),\n ('living', 'soul'),\n ('soul', '.\\n'),\n ('god', 'planted'),\n ('planted', 'a'),\n ('a', 'garden'),\n ('garden', 'eastward'),\n ('eastward', 'in'),\n ('in', 'eden'),\n ('eden', ';'),\n ('there', 'he'),\n ('he', 'put'),\n ('put', 'the'),\n ('the', 'man'),\n ('man', 'whom'),\n ('whom', 'he'),\n ('had', 'formed'),\n ('formed', '.\\n'),\n ('and', 'out'),\n ('out', 'of'),\n ('ground', 'made'),\n ('god', 'to'),\n ('to', 'grow'),\n ('grow', 'every'),\n ('tree', 'that'),\n ('that', 'is'),\n ('is', 'pleasant'),\n ('pleasant', 'to'),\n ('to', 'the'),\n ('the', 'sight'),\n ('sight', ','),\n ('and', 'good'),\n ('good', 'for'),\n ('for', 'food'),\n ('food', ';'),\n ('tree', 'of'),\n ('life', 'also'),\n ('also', 'in'),\n ('the', 'garden'),\n ('garden', ','),\n ('of', 'knowledge'),\n ('knowledge', 'of'),\n ('of', 'good'),\n ('good', 'and'),\n ('and', 'evil'),\n ('evil', '.\\n'),\n ('and', 'a'),\n ('a', 'river'),\n ('river', 'went'),\n ('went', 'out'),\n ('of', 'eden'),\n ('eden', 'to'),\n ('to', 'water'),\n ('water', 'the'),\n ('garden', ';'),\n ('and', 'from'),\n ('from', 'thence'),\n ('thence', 'it'),\n ('was', 'parted'),\n ('parted', ','),\n ('and', 'became'),\n ('became', 'into'),\n ('into', 'four'),\n ('four', 'heads'),\n ('heads', '.\\n'),\n ('.\\n', 'the'),\n ('the', 'name'),\n ('name', 'of'),\n ('first', 'is'),\n ('is', 'pison'),\n ('pison', ':'),\n (':', 'that'),\n ('is', 'it'),\n ('it', 'which'),\n ('which', 'compasseth'),\n ('compasseth', 'the'),\n ('whole', 'land'),\n ('land', 'of'),\n ('of', 'havilah'),\n ('havilah', ','),\n (',', 'where'),\n ('where', 'there'),\n ('is', 'gold'),\n ('gold', ';\\n'),\n (';\\n', 'and'),\n ('the', 'gold'),\n ('gold', 'of'),\n ('of', 'that'),\n ('that', 'land'),\n ('land', 'is'),\n ('is', 'good'),\n (':', 'there'),\n ('is', 'bdellium'),\n ('bdellium', 'and'),\n ('the', 'onyx'),\n ('onyx', 'stone'),\n ('stone', '.\\n'),\n ('second', 'river'),\n ('river', 'is'),\n ('is', 'gihon'),\n ('gihon', ':'),\n (':', 'the'),\n ('the', 'same'),\n ('same', 'is'),\n ('it', 'that'),\n ('that', 'compasseth'),\n ('of', 'ethiopia'),\n ('ethiopia', '.\\n'),\n ('third', 'river'),\n ('is', 'hiddekel'),\n ('hiddekel', ':'),\n ('which', 'goeth'),\n ('goeth', 'toward'),\n ('toward', 'the'),\n ('the', 'east'),\n ('east', 'of'),\n ('of', 'assyria'),\n ('assyria', '.'),\n ('fourth', 'river'),\n ('is', 'euphrates'),\n ('euphrates', '.\\n'),\n ('god', 'took'),\n ('took', 'the'),\n ('man', ','),\n ('and', 'put'),\n ('put', 'him'),\n ('him', 'into'),\n ('into', 'the'),\n ('garden', 'of'),\n ('to', 'dress'),\n ('dress', 'it'),\n ('it', 'and'),\n ('to', 'keep'),\n ('keep', 'it'),\n ('it', '.\\n'),\n ('god', 'commanded'),\n ('commanded', 'the'),\n (',', 'of'),\n ('of', 'every'),\n ('garden', 'thou'),\n ('thou', 'mayest'),\n ('mayest', 'freely'),\n ('freely', 'eat'),\n ('eat', ':\\n'),\n (':\\n', 'but'),\n ('but', 'of'),\n ('the', 'knowledge'),\n ('evil', ','),\n (',', 'thou'),\n ('thou', 'shalt'),\n ('shalt', 'not'),\n ('not', 'eat'),\n ('eat', 'of'),\n ('of', 'it'),\n ('for', 'in'),\n ('that', 'thou'),\n ('thou', 'eatest'),\n ('eatest', 'thereof'),\n ('thereof', 'thou'),\n ('shalt', 'surely'),\n ('surely', 'die'),\n ('die', '.\\n'),\n ('it', 'is'),\n ('is', 'not'),\n ('not', 'good'),\n ('good', 'that'),\n ('man', 'should'),\n ('should', 'be'),\n ('be', 'alone'),\n ('alone', ';'),\n (';', 'i'),\n ('i', 'will'),\n ('will', 'make'),\n ('make', 'him'),\n ('him', 'an'),\n ('an', 'help'),\n ('help', 'meet'),\n ('meet', 'for'),\n ('for', 'him'),\n ('him', '.\\n'),\n ('ground', 'the'),\n ('formed', 'every'),\n ('field', ','),\n ('air', ';'),\n ('and', 'brought'),\n ('brought', 'them'),\n ('them', 'unto'),\n ('unto', 'adam'),\n ('adam', 'to'),\n ('to', 'see'),\n ('see', 'what'),\n ('what', 'he'),\n ('he', 'would'),\n ('would', 'call'),\n ('call', 'them'),\n ('them', ':'),\n ('and', 'whatsoever'),\n ('whatsoever', 'adam'),\n ('adam', 'called'),\n ('called', 'every'),\n ('creature', ','),\n ('that', 'was'),\n ('was', 'the'),\n ('name', 'thereof'),\n ('thereof', '.\\n'),\n ('and', 'adam'),\n ('adam', 'gave'),\n ('gave', 'names'),\n ('names', 'to'),\n ('to', 'all'),\n ('all', 'cattle'),\n ('field', ';'),\n (';', 'but'),\n ('but', 'for'),\n ('for', 'adam'),\n ('adam', 'there'),\n ('not', 'found'),\n ('found', 'an'),\n ('god', 'caused'),\n ('caused', 'a'),\n ('a', 'deep'),\n ('deep', 'sleep'),\n ('sleep', 'to'),\n ('to', 'fall'),\n ('fall', 'upon'),\n ('upon', 'adam'),\n ('adam', ','),\n ('he', 'slept'),\n ('slept', ':'),\n ('he', 'took'),\n ('took', 'one'),\n ('one', 'of'),\n ('of', 'his'),\n ('his', 'ribs'),\n ('ribs', ','),\n ('and', 'closed'),\n ('closed', 'up'),\n ('up', 'the'),\n ('the', 'flesh'),\n ('flesh', 'instead'),\n ('instead', 'thereof'),\n ('thereof', ';\\n'),\n ('the', 'rib'),\n ('rib', ','),\n ('had', 'taken'),\n ('taken', 'from'),\n ('from', 'man'),\n (',', 'made'),\n ('made', 'he'),\n ('he', 'a'),\n ('a', 'woman'),\n ('woman', ','),\n ('brought', 'her'),\n ('her', 'unto'),\n ('unto', 'the'),\n ('man', '.\\n'),\n ('adam', 'said'),\n (',', 'this'),\n ('this', 'is'),\n ('is', 'now'),\n ('now', 'bone'),\n ('bone', 'of'),\n ('of', 'my'),\n ('my', 'bones'),\n ('bones', ','),\n ('and', 'flesh'),\n ('flesh', 'of'),\n ('my', 'flesh'),\n ('flesh', ':'),\n (':', 'she'),\n ('she', 'shall'),\n ('be', 'called'),\n ('called', 'woman'),\n (',', 'because'),\n ('because', 'she'),\n ('she', 'was'),\n ('was', 'taken'),\n ('taken', 'out'),\n ('of', 'man'),\n ('.\\n', 'therefore'),\n ('therefore', 'shall'),\n ('shall', 'a'),\n ('man', 'leave'),\n ('leave', 'his'),\n ('his', 'father'),\n ('father', 'and'),\n ('and', 'his'),\n ('his', 'mother'),\n ('mother', ','),\n ('and', 'shall'),\n ('shall', 'cleave'),\n ('cleave', 'unto'),\n ('unto', 'his'),\n ('his', 'wife'),\n ('wife', ':'),\n ('and', 'they'),\n ('they', 'shall'),\n ('be', 'one'),\n ('one', 'flesh'),\n ('flesh', '.\\n'),\n ('were', 'both'),\n ('both', 'naked'),\n ('naked', ','),\n ('man', 'and'),\n ('wife', ','),\n ('and', 'were'),\n ('were', 'not'),\n ('not', 'ashamed'),\n ('ashamed', '.\\n'),\n ('.\\n', 'now'),\n ('now', 'the'),\n ('the', 'serpent'),\n ('serpent', 'was'),\n ('was', 'more'),\n ('more', 'subtil'),\n ('subtil', 'than'),\n ('than', 'any'),\n ('any', 'beast'),\n ('field', 'which'),\n ('made', '.'),\n ('he', 'said'),\n ('the', 'woman'),\n (',', 'yea'),\n ('yea', ','),\n (',', 'hath'),\n ('hath', 'god'),\n (',', 'ye'),\n ('ye', 'shall'),\n ('shall', 'not'),\n ('garden', '?\\n'),\n ('?\\n', 'and'),\n ('woman', 'said'),\n ('serpent', ','),\n (',', 'we'),\n ('we', 'may'),\n ('may', 'eat'),\n ('the', 'trees'),\n ('trees', 'of'),\n ('garden', ':\\n'),\n ('tree', 'which'),\n (',', 'god'),\n ('god', 'hath'),\n ('hath', 'said'),\n ('it', ','),\n (',', 'neither'),\n ('neither', 'shall'),\n ('shall', 'ye'),\n ('ye', 'touch'),\n ('touch', 'it'),\n (',', 'lest'),\n ('lest', 'ye'),\n ('ye', 'die'),\n ('serpent', 'said'),\n ('not', 'surely'),\n ('die', ':\\n'),\n (':\\n', 'for'),\n ('for', 'god'),\n ('god', 'doth'),\n ('doth', 'know'),\n ('know', 'that'),\n ('day', 'ye'),\n ('ye', 'eat'),\n ('eat', 'thereof'),\n ('thereof', ','),\n (',', 'then'),\n ('then', 'your'),\n ('your', 'eyes'),\n ('eyes', 'shall'),\n ('be', 'opened'),\n ('opened', ','),\n ('and', 'ye'),\n ('be', 'as'),\n ('as', 'gods'),\n ('gods', ','),\n (',', 'knowing'),\n ('knowing', 'good'),\n ('and', 'when'),\n ('when', 'the'),\n ('woman', 'saw'),\n ('tree', 'was'),\n ('food', ','),\n ('and', 'that'),\n ('was', 'pleasant'),\n ('the', 'eyes'),\n ('eyes', ','),\n ('tree', 'to'),\n ('to', 'be'),\n ('be', 'desired'),\n ('desired', 'to'),\n ('to', 'make'),\n ('make', 'one'),\n ('one', 'wise'),\n ('wise', ','),\n (',', 'she'),\n ('she', 'took'),\n ('took', 'of'),\n ('fruit', 'thereof'),\n ('and', 'did'),\n ('did', 'eat'),\n ('eat', ','),\n ('and', 'gave'),\n ('gave', 'also'),\n ('also', 'unto'),\n ('unto', 'her'),\n ('her', 'husband'),\n ('husband', 'with'),\n ('with', 'her'),\n ('her', ';'),\n ('he', 'did'),\n ('eat', '.\\n'),\n ('eyes', 'of'),\n ('them', 'both'),\n ('both', 'were'),\n ('were', 'opened'),\n ('they', 'knew'),\n ('knew', 'that'),\n ('that', 'they'),\n ('were', 'naked'),\n ('naked', ';'),\n ('they', 'sewed'),\n ('sewed', 'fig'),\n ('fig', 'leaves'),\n ('leaves', 'together'),\n ('together', ','),\n ('made', 'themselves'),\n ('themselves', 'aprons'),\n ('aprons', '.\\n'),\n ('they', 'heard'),\n ('heard', 'the'),\n ('the', 'voice'),\n ('voice', 'of'),\n ('god', 'walking'),\n ('walking', 'in'),\n ('garden', 'in'),\n ('the', 'cool'),\n ('cool', 'of'),\n ('day', ':'),\n ('adam', 'and'),\n ('wife', 'hid'),\n ('hid', 'themselves'),\n ('themselves', 'from'),\n ('the', 'presence'),\n ('presence', 'of'),\n ('god', 'amongst'),\n ('amongst', 'the'),\n ('garden', '.\\n'),\n ('called', 'unto'),\n ('and', 'said'),\n ('unto', 'him'),\n ('him', ','),\n ('where', 'art'),\n ('art', 'thou'),\n ('thou', '?\\n'),\n ('i', 'heard'),\n ('heard', 'thy'),\n ('thy', 'voice'),\n ('voice', 'in'),\n ('and', 'i'),\n ('i', 'was'),\n ('was', 'afraid'),\n ('afraid', ','),\n ('because', 'i'),\n ('was', 'naked'),\n ('i', 'hid'),\n ('hid', 'myself'),\n ('myself', '.\\n'),\n (',', 'who'),\n ('who', 'told'),\n ('told', 'thee'),\n ('thee', 'that'),\n ('thou', 'wast'),\n ('wast', 'naked'),\n ('naked', '?'),\n ('?', 'hast'),\n ('hast', 'thou'),\n ...]"
     },
     "execution_count": 60,
     "metadata": {},
     "output_type": "execute_result"
    }
   ],
   "source": [
    "trigram = BasicNgram(3, corpus)\n",
    "\n",
    "trigram.contexts()"
   ],
   "metadata": {
    "collapsed": false,
    "ExecuteTime": {
     "end_time": "2024-08-28T04:11:17.775759488Z",
     "start_time": "2024-08-28T04:11:16.648125733Z"
    }
   },
   "id": "f05d39b91b1586fa"
  },
  {
   "cell_type": "code",
   "execution_count": 61,
   "outputs": [
    {
     "name": "stdout",
     "output_type": "stream",
     "text": [
      "102\n"
     ]
    },
    {
     "data": {
      "text/plain": "'<$> <$> in the heavens shall give her him to death , written and engraven in stones , and of treasures by a whirlwind , that men pray every where to lay upon him , concerning whom the king an answer unto rehum the chancellor and shimshai the scribe told the words of god ; and the son of shelemiah , shemariah ,\\n shallum , amariah , and girded him with the king .\\n now the levites , which have not charity , and said unto him , why are ye troubled ? and why art thou , o great hailstones ,'"
     },
     "execution_count": 61,
     "metadata": {},
     "output_type": "execute_result"
    }
   ],
   "source": [
    "generate_text(trigram, 3 ,100)"
   ],
   "metadata": {
    "collapsed": false,
    "ExecuteTime": {
     "end_time": "2024-08-28T04:11:17.831661452Z",
     "start_time": "2024-08-28T04:11:17.768112387Z"
    }
   },
   "id": "95c531ad97d00d18"
  },
  {
   "cell_type": "code",
   "execution_count": 62,
   "outputs": [
    {
     "data": {
      "text/plain": "[('<$>', '<$>', '<$>'),\n ('<$>', '<$>', 'in'),\n ('<$>', 'in', 'the'),\n ('in', 'the', 'beginning'),\n ('the', 'beginning', 'god'),\n ('beginning', 'god', 'created'),\n ('god', 'created', 'the'),\n ('created', 'the', 'heaven'),\n ('the', 'heaven', 'and'),\n ('heaven', 'and', 'the'),\n ('and', 'the', 'earth'),\n ('the', 'earth', '.\\n'),\n ('earth', '.\\n', 'and'),\n ('.\\n', 'and', 'the'),\n ('the', 'earth', 'was'),\n ('earth', 'was', 'without'),\n ('was', 'without', 'form'),\n ('without', 'form', ','),\n ('form', ',', 'and'),\n (',', 'and', 'void'),\n ('and', 'void', ';'),\n ('void', ';', 'and'),\n (';', 'and', 'darkness'),\n ('and', 'darkness', 'was'),\n ('darkness', 'was', 'upon'),\n ('was', 'upon', 'the'),\n ('upon', 'the', 'face'),\n ('the', 'face', 'of'),\n ('face', 'of', 'the'),\n ('of', 'the', 'deep'),\n ('the', 'deep', '.'),\n ('deep', '.', 'and'),\n ('.', 'and', 'the'),\n ('and', 'the', 'spirit'),\n ('the', 'spirit', 'of'),\n ('spirit', 'of', 'god'),\n ('of', 'god', 'moved'),\n ('god', 'moved', 'upon'),\n ('moved', 'upon', 'the'),\n ('of', 'the', 'waters'),\n ('the', 'waters', '.\\n'),\n ('waters', '.\\n', 'and'),\n ('.\\n', 'and', 'god'),\n ('and', 'god', 'said'),\n ('god', 'said', ','),\n ('said', ',', 'let'),\n (',', 'let', 'there'),\n ('let', 'there', 'be'),\n ('there', 'be', 'light'),\n ('be', 'light', ':'),\n ('light', ':', 'and'),\n (':', 'and', 'there'),\n ('and', 'there', 'was'),\n ('there', 'was', 'light'),\n ('was', 'light', '.\\n'),\n ('light', '.\\n', 'and'),\n ('and', 'god', 'saw'),\n ('god', 'saw', 'the'),\n ('saw', 'the', 'light'),\n ('the', 'light', ','),\n ('light', ',', 'that'),\n (',', 'that', 'it'),\n ('that', 'it', 'was'),\n ('it', 'was', 'good'),\n ('was', 'good', ':'),\n ('good', ':', 'and'),\n (':', 'and', 'god'),\n ('and', 'god', 'divided'),\n ('god', 'divided', 'the'),\n ('divided', 'the', 'light'),\n ('the', 'light', 'from'),\n ('light', 'from', 'the'),\n ('from', 'the', 'darkness'),\n ('the', 'darkness', '.\\n'),\n ('darkness', '.\\n', 'and'),\n ('and', 'god', 'called'),\n ('god', 'called', 'the'),\n ('called', 'the', 'light'),\n ('the', 'light', 'day'),\n ('light', 'day', ','),\n ('day', ',', 'and'),\n (',', 'and', 'the'),\n ('and', 'the', 'darkness'),\n ('the', 'darkness', 'he'),\n ('darkness', 'he', 'called'),\n ('he', 'called', 'night'),\n ('called', 'night', '.'),\n ('night', '.', 'and'),\n ('and', 'the', 'evening'),\n ('the', 'evening', 'and'),\n ('evening', 'and', 'the'),\n ('and', 'the', 'morning'),\n ('the', 'morning', 'were'),\n ('morning', 'were', 'the'),\n ('were', 'the', 'first'),\n ('the', 'first', 'day'),\n ('first', 'day', '.\\n'),\n ('day', '.\\n', 'and'),\n ('there', 'be', 'a'),\n ('be', 'a', 'firmament'),\n ('a', 'firmament', 'in'),\n ('firmament', 'in', 'the'),\n ('in', 'the', 'midst'),\n ('the', 'midst', 'of'),\n ('midst', 'of', 'the'),\n ('the', 'waters', ','),\n ('waters', ',', 'and'),\n (',', 'and', 'let'),\n ('and', 'let', 'it'),\n ('let', 'it', 'divide'),\n ('it', 'divide', 'the'),\n ('divide', 'the', 'waters'),\n ('the', 'waters', 'from'),\n ('waters', 'from', 'the'),\n ('from', 'the', 'waters'),\n ('and', 'god', 'made'),\n ('god', 'made', 'the'),\n ('made', 'the', 'firmament'),\n ('the', 'firmament', ','),\n ('firmament', ',', 'and'),\n (',', 'and', 'divided'),\n ('and', 'divided', 'the'),\n ('divided', 'the', 'waters'),\n ('the', 'waters', 'which'),\n ('waters', 'which', 'were'),\n ('which', 'were', 'under'),\n ('were', 'under', 'the'),\n ('under', 'the', 'firmament'),\n ('the', 'firmament', 'from'),\n ('firmament', 'from', 'the'),\n ('which', 'were', 'above'),\n ('were', 'above', 'the'),\n ('above', 'the', 'firmament'),\n ('the', 'firmament', ':'),\n ('firmament', ':', 'and'),\n (':', 'and', 'it'),\n ('and', 'it', 'was'),\n ('it', 'was', 'so'),\n ('was', 'so', '.\\n'),\n ('so', '.\\n', 'and'),\n ('called', 'the', 'firmament'),\n ('the', 'firmament', 'heaven'),\n ('firmament', 'heaven', '.'),\n ('heaven', '.', 'and'),\n ('were', 'the', 'second'),\n ('the', 'second', 'day'),\n ('second', 'day', '.\\n'),\n (',', 'let', 'the'),\n ('let', 'the', 'waters'),\n ('the', 'waters', 'under'),\n ('waters', 'under', 'the'),\n ('under', 'the', 'heaven'),\n ('the', 'heaven', 'be'),\n ('heaven', 'be', 'gathered'),\n ('be', 'gathered', 'together'),\n ('gathered', 'together', 'unto'),\n ('together', 'unto', 'one'),\n ('unto', 'one', 'place'),\n ('one', 'place', ','),\n ('place', ',', 'and'),\n ('and', 'let', 'the'),\n ('let', 'the', 'dry'),\n ('the', 'dry', 'land'),\n ('dry', 'land', 'appear'),\n ('land', 'appear', ':'),\n ('appear', ':', 'and'),\n ('called', 'the', 'dry'),\n ('dry', 'land', 'earth'),\n ('land', 'earth', ';'),\n ('earth', ';', 'and'),\n (';', 'and', 'the'),\n ('and', 'the', 'gathering'),\n ('the', 'gathering', 'together'),\n ('gathering', 'together', 'of'),\n ('together', 'of', 'the'),\n ('the', 'waters', 'called'),\n ('waters', 'called', 'he'),\n ('called', 'he', 'seas'),\n ('he', 'seas', ':'),\n ('seas', ':', 'and'),\n ('god', 'saw', 'that'),\n ('saw', 'that', 'it'),\n ('was', 'good', '.\\n'),\n ('good', '.\\n', 'and'),\n ('let', 'the', 'earth'),\n ('the', 'earth', 'bring'),\n ('earth', 'bring', 'forth'),\n ('bring', 'forth', 'grass'),\n ('forth', 'grass', ','),\n ('grass', ',', 'the'),\n (',', 'the', 'herb'),\n ('the', 'herb', 'yielding'),\n ('herb', 'yielding', 'seed'),\n ('yielding', 'seed', ','),\n ('seed', ',', 'and'),\n ('and', 'the', 'fruit'),\n ('the', 'fruit', 'tree'),\n ('fruit', 'tree', 'yielding'),\n ('tree', 'yielding', 'fruit'),\n ('yielding', 'fruit', 'after'),\n ('fruit', 'after', 'his'),\n ('after', 'his', 'kind'),\n ('his', 'kind', ','),\n ('kind', ',', 'whose'),\n (',', 'whose', 'seed'),\n ('whose', 'seed', 'is'),\n ('seed', 'is', 'in'),\n ('is', 'in', 'itself'),\n ('in', 'itself', ','),\n ('itself', ',', 'upon'),\n (',', 'upon', 'the'),\n ('upon', 'the', 'earth'),\n ('the', 'earth', ':'),\n ('earth', ':', 'and'),\n ('the', 'earth', 'brought'),\n ('earth', 'brought', 'forth'),\n ('brought', 'forth', 'grass'),\n ('grass', ',', 'and'),\n (',', 'and', 'herb'),\n ('and', 'herb', 'yielding'),\n ('yielding', 'seed', 'after'),\n ('seed', 'after', 'his'),\n ('kind', ',', 'and'),\n ('and', 'the', 'tree'),\n ('the', 'tree', 'yielding'),\n ('yielding', 'fruit', ','),\n ('fruit', ',', 'whose'),\n ('whose', 'seed', 'was'),\n ('seed', 'was', 'in'),\n ('was', 'in', 'itself'),\n ('itself', ',', 'after'),\n (',', 'after', 'his'),\n ('his', 'kind', ':'),\n ('kind', ':', 'and'),\n ('were', 'the', 'third'),\n ('the', 'third', 'day'),\n ('third', 'day', '.\\n'),\n ('there', 'be', 'lights'),\n ('be', 'lights', 'in'),\n ('lights', 'in', 'the'),\n ('in', 'the', 'firmament'),\n ('the', 'firmament', 'of'),\n ('firmament', 'of', 'the'),\n ('of', 'the', 'heaven'),\n ('the', 'heaven', 'to'),\n ('heaven', 'to', 'divide'),\n ('to', 'divide', 'the'),\n ('divide', 'the', 'day'),\n ('the', 'day', 'from'),\n ('day', 'from', 'the'),\n ('from', 'the', 'night'),\n ('the', 'night', ';'),\n ('night', ';', 'and'),\n (';', 'and', 'let'),\n ('and', 'let', 'them'),\n ('let', 'them', 'be'),\n ('them', 'be', 'for'),\n ('be', 'for', 'signs'),\n ('for', 'signs', ','),\n ('signs', ',', 'and'),\n (',', 'and', 'for'),\n ('and', 'for', 'seasons'),\n ('for', 'seasons', ','),\n ('seasons', ',', 'and'),\n ('and', 'for', 'days'),\n ('for', 'days', ','),\n ('days', ',', 'and'),\n (',', 'and', 'years'),\n ('and', 'years', ':\\n'),\n ('years', ':\\n', 'and'),\n (':\\n', 'and', 'let'),\n ('be', 'for', 'lights'),\n ('for', 'lights', 'in'),\n ('heaven', 'to', 'give'),\n ('to', 'give', 'light'),\n ('give', 'light', 'upon'),\n ('light', 'upon', 'the'),\n ('god', 'made', 'two'),\n ('made', 'two', 'great'),\n ('two', 'great', 'lights'),\n ('great', 'lights', ';'),\n ('lights', ';', 'the'),\n (';', 'the', 'greater'),\n ('the', 'greater', 'light'),\n ('greater', 'light', 'to'),\n ('light', 'to', 'rule'),\n ('to', 'rule', 'the'),\n ('rule', 'the', 'day'),\n ('the', 'day', ','),\n ('and', 'the', 'lesser'),\n ('the', 'lesser', 'light'),\n ('lesser', 'light', 'to'),\n ('rule', 'the', 'night'),\n ('the', 'night', ':'),\n ('night', ':', 'he'),\n (':', 'he', 'made'),\n ('he', 'made', 'the'),\n ('made', 'the', 'stars'),\n ('the', 'stars', 'also'),\n ('stars', 'also', '.\\n'),\n ('also', '.\\n', 'and'),\n ('and', 'god', 'set'),\n ('god', 'set', 'them'),\n ('set', 'them', 'in'),\n ('them', 'in', 'the'),\n ('the', 'earth', ',\\n'),\n ('earth', ',\\n', 'and'),\n (',\\n', 'and', 'to'),\n ('and', 'to', 'rule'),\n ('to', 'rule', 'over'),\n ('rule', 'over', 'the'),\n ('over', 'the', 'day'),\n ('the', 'day', 'and'),\n ('day', 'and', 'over'),\n ('and', 'over', 'the'),\n ('over', 'the', 'night'),\n ('the', 'night', ','),\n ('night', ',', 'and'),\n (',', 'and', 'to'),\n ('and', 'to', 'divide'),\n ('divide', 'the', 'light'),\n ('the', 'darkness', ':'),\n ('darkness', ':', 'and'),\n ('were', 'the', 'fourth'),\n ('the', 'fourth', 'day'),\n ('fourth', 'day', '.\\n'),\n ('the', 'waters', 'bring'),\n ('waters', 'bring', 'forth'),\n ('bring', 'forth', 'abundantly'),\n ('forth', 'abundantly', 'the'),\n ('abundantly', 'the', 'moving'),\n ('the', 'moving', 'creature'),\n ('moving', 'creature', 'that'),\n ('creature', 'that', 'hath'),\n ('that', 'hath', 'life'),\n ('hath', 'life', ','),\n ('life', ',', 'and'),\n (',', 'and', 'fowl'),\n ('and', 'fowl', 'that'),\n ('fowl', 'that', 'may'),\n ('that', 'may', 'fly'),\n ('may', 'fly', 'above'),\n ('fly', 'above', 'the'),\n ('above', 'the', 'earth'),\n ('the', 'earth', 'in'),\n ('earth', 'in', 'the'),\n ('in', 'the', 'open'),\n ('the', 'open', 'firmament'),\n ('open', 'firmament', 'of'),\n ('firmament', 'of', 'heaven'),\n ('of', 'heaven', '.\\n'),\n ('heaven', '.\\n', 'and'),\n ('and', 'god', 'created'),\n ('god', 'created', 'great'),\n ('created', 'great', 'whales'),\n ('great', 'whales', ','),\n ('whales', ',', 'and'),\n (',', 'and', 'every'),\n ('and', 'every', 'living'),\n ('every', 'living', 'creature'),\n ('living', 'creature', 'that'),\n ('creature', 'that', 'moveth'),\n ('that', 'moveth', ','),\n ('moveth', ',', 'which'),\n (',', 'which', 'the'),\n ('which', 'the', 'waters'),\n ('the', 'waters', 'brought'),\n ('waters', 'brought', 'forth'),\n ('brought', 'forth', 'abundantly'),\n ('forth', 'abundantly', ','),\n ('abundantly', ',', 'after'),\n (',', 'after', 'their'),\n ('after', 'their', 'kind'),\n ('their', 'kind', ','),\n ('and', 'every', 'winged'),\n ('every', 'winged', 'fowl'),\n ('winged', 'fowl', 'after'),\n ('fowl', 'after', 'his'),\n ('and', 'god', 'blessed'),\n ('god', 'blessed', 'them'),\n ('blessed', 'them', ','),\n ('them', ',', 'saying'),\n (',', 'saying', ','),\n ('saying', ',', 'be'),\n (',', 'be', 'fruitful'),\n ('be', 'fruitful', ','),\n ('fruitful', ',', 'and'),\n (',', 'and', 'multiply'),\n ('and', 'multiply', ','),\n ('multiply', ',', 'and'),\n (',', 'and', 'fill'),\n ('and', 'fill', 'the'),\n ('fill', 'the', 'waters'),\n ('the', 'waters', 'in'),\n ('waters', 'in', 'the'),\n ('in', 'the', 'seas'),\n ('the', 'seas', ','),\n ('seas', ',', 'and'),\n ('and', 'let', 'fowl'),\n ('let', 'fowl', 'multiply'),\n ('fowl', 'multiply', 'in'),\n ('multiply', 'in', 'the'),\n ('in', 'the', 'earth'),\n ('were', 'the', 'fifth'),\n ('the', 'fifth', 'day'),\n ('fifth', 'day', '.\\n'),\n ('bring', 'forth', 'the'),\n ('forth', 'the', 'living'),\n ('the', 'living', 'creature'),\n ('living', 'creature', 'after'),\n ('creature', 'after', 'his'),\n ('kind', ',', 'cattle'),\n (',', 'cattle', ','),\n ('cattle', ',', 'and'),\n (',', 'and', 'creeping'),\n ('and', 'creeping', 'thing'),\n ('creeping', 'thing', ','),\n ('thing', ',', 'and'),\n (',', 'and', 'beast'),\n ('and', 'beast', 'of'),\n ('beast', 'of', 'the'),\n ('of', 'the', 'earth'),\n ('the', 'earth', 'after'),\n ('earth', 'after', 'his'),\n ('made', 'the', 'beast'),\n ('the', 'beast', 'of'),\n (',', 'and', 'cattle'),\n ('and', 'cattle', 'after'),\n ('cattle', 'after', 'their'),\n ('and', 'every', 'thing'),\n ('every', 'thing', 'that'),\n ('thing', 'that', 'creepeth'),\n ('that', 'creepeth', 'upon'),\n ('creepeth', 'upon', 'the'),\n (',', 'let', 'us'),\n ('let', 'us', 'make'),\n ('us', 'make', 'man'),\n ('make', 'man', 'in'),\n ('man', 'in', 'our'),\n ('in', 'our', 'image'),\n ('our', 'image', ','),\n ('image', ',', 'after'),\n (',', 'after', 'our'),\n ('after', 'our', 'likeness'),\n ('our', 'likeness', ':'),\n ('likeness', ':', 'and'),\n (':', 'and', 'let'),\n ('let', 'them', 'have'),\n ('them', 'have', 'dominion'),\n ('have', 'dominion', 'over'),\n ('dominion', 'over', 'the'),\n ('over', 'the', 'fish'),\n ('the', 'fish', 'of'),\n ('fish', 'of', 'the'),\n ('of', 'the', 'sea'),\n ('the', 'sea', ','),\n ('sea', ',', 'and'),\n (',', 'and', 'over'),\n ('over', 'the', 'fowl'),\n ('the', 'fowl', 'of'),\n ('fowl', 'of', 'the'),\n ('of', 'the', 'air'),\n ('the', 'air', ','),\n ('air', ',', 'and'),\n ('over', 'the', 'cattle'),\n ('the', 'cattle', ','),\n ('and', 'over', 'all'),\n ('over', 'all', 'the'),\n ('all', 'the', 'earth'),\n ('the', 'earth', ','),\n ('earth', ',', 'and'),\n ('and', 'over', 'every'),\n ('over', 'every', 'creeping'),\n ('every', 'creeping', 'thing'),\n ('creeping', 'thing', 'that'),\n ('earth', '.\\n', 'so'),\n ('.\\n', 'so', 'god'),\n ('so', 'god', 'created'),\n ('god', 'created', 'man'),\n ('created', 'man', 'in'),\n ('man', 'in', 'his'),\n ('in', 'his', 'own'),\n ('his', 'own', 'image'),\n ('own', 'image', ','),\n ('image', ',', 'in'),\n (',', 'in', 'the'),\n ('in', 'the', 'image'),\n ('the', 'image', 'of'),\n ('image', 'of', 'god'),\n ('of', 'god', 'created'),\n ('god', 'created', 'he'),\n ('created', 'he', 'him'),\n ('he', 'him', ';'),\n ('him', ';', 'male'),\n (';', 'male', 'and'),\n ('male', 'and', 'female'),\n ('and', 'female', 'created'),\n ('female', 'created', 'he'),\n ('created', 'he', 'them'),\n ('he', 'them', '.\\n'),\n ('them', '.\\n', 'and'),\n ('them', ',', 'and'),\n (',', 'and', 'god'),\n ('god', 'said', 'unto'),\n ('said', 'unto', 'them'),\n ('unto', 'them', ','),\n ('them', ',', 'be'),\n (',', 'and', 'replenish'),\n ('and', 'replenish', 'the'),\n ('replenish', 'the', 'earth'),\n (',', 'and', 'subdue'),\n ('and', 'subdue', 'it'),\n ('subdue', 'it', ':'),\n ('it', ':', 'and'),\n (':', 'and', 'have'),\n ('and', 'have', 'dominion'),\n ('over', 'every', 'living'),\n ('every', 'living', 'thing'),\n ('living', 'thing', 'that'),\n ('thing', 'that', 'moveth'),\n ('that', 'moveth', 'upon'),\n ('moveth', 'upon', 'the'),\n ('said', ',', 'behold'),\n (',', 'behold', ','),\n ('behold', ',', 'i'),\n (',', 'i', 'have'),\n ('i', 'have', 'given'),\n ('have', 'given', 'you'),\n ('given', 'you', 'every'),\n ('you', 'every', 'herb'),\n ('every', 'herb', 'bearing'),\n ('herb', 'bearing', 'seed'),\n ('bearing', 'seed', ','),\n ('seed', ',', 'which'),\n (',', 'which', 'is'),\n ('which', 'is', 'upon'),\n ('is', 'upon', 'the'),\n ('face', 'of', 'all'),\n ('of', 'all', 'the'),\n ('and', 'every', 'tree'),\n ('every', 'tree', ','),\n ('tree', ',', 'in'),\n ('in', 'the', 'which'),\n ('the', 'which', 'is'),\n ('which', 'is', 'the'),\n ('is', 'the', 'fruit'),\n ('the', 'fruit', 'of'),\n ('fruit', 'of', 'a'),\n ('of', 'a', 'tree'),\n ('a', 'tree', 'yielding'),\n ('tree', 'yielding', 'seed'),\n ('yielding', 'seed', ';'),\n ('seed', ';', 'to'),\n (';', 'to', 'you'),\n ('to', 'you', 'it'),\n ('you', 'it', 'shall'),\n ('it', 'shall', 'be'),\n ('shall', 'be', 'for'),\n ('be', 'for', 'meat'),\n ('for', 'meat', '.\\n'),\n ('meat', '.\\n', 'and'),\n ('.\\n', 'and', 'to'),\n ('and', 'to', 'every'),\n ('to', 'every', 'beast'),\n ('every', 'beast', 'of'),\n ('to', 'every', 'fowl'),\n ('every', 'fowl', 'of'),\n ('to', 'every', 'thing'),\n ('earth', ',', 'wherein'),\n (',', 'wherein', 'there'),\n ('wherein', 'there', 'is'),\n ('there', 'is', 'life'),\n ('is', 'life', ','),\n ('life', ',', 'i'),\n ('have', 'given', 'every'),\n ('given', 'every', 'green'),\n ('every', 'green', 'herb'),\n ('green', 'herb', 'for'),\n ('herb', 'for', 'meat'),\n ('for', 'meat', ':'),\n ('meat', ':', 'and'),\n ('god', 'saw', 'every'),\n ('saw', 'every', 'thing'),\n ('thing', 'that', 'he'),\n ('that', 'he', 'had'),\n ('he', 'had', 'made'),\n ('had', 'made', ','),\n ('made', ',', 'and'),\n (',', 'and', ','),\n ('and', ',', 'behold'),\n ('behold', ',', 'it'),\n (',', 'it', 'was'),\n ('it', 'was', 'very'),\n ('was', 'very', 'good'),\n ('very', 'good', '.'),\n ('good', '.', 'and'),\n ('were', 'the', 'sixth'),\n ('the', 'sixth', 'day'),\n ('sixth', 'day', '.\\n'),\n ('day', '.\\n', 'thus'),\n ('.\\n', 'thus', 'the'),\n ('thus', 'the', 'heavens'),\n ('the', 'heavens', 'and'),\n ('heavens', 'and', 'the'),\n ('the', 'earth', 'were'),\n ('earth', 'were', 'finished'),\n ('were', 'finished', ','),\n ('finished', ',', 'and'),\n (',', 'and', 'all'),\n ('and', 'all', 'the'),\n ('all', 'the', 'host'),\n ('the', 'host', 'of'),\n ('host', 'of', 'them'),\n ('of', 'them', '.\\n'),\n ('.\\n', 'and', 'on'),\n ('and', 'on', 'the'),\n ('on', 'the', 'seventh'),\n ('the', 'seventh', 'day'),\n ('seventh', 'day', 'god'),\n ('day', 'god', 'ended'),\n ('god', 'ended', 'his'),\n ('ended', 'his', 'work'),\n ('his', 'work', 'which'),\n ('work', 'which', 'he'),\n ('which', 'he', 'had'),\n ('had', 'made', ';'),\n ('made', ';', 'and'),\n (';', 'and', 'he'),\n ('and', 'he', 'rested'),\n ('he', 'rested', 'on'),\n ('rested', 'on', 'the'),\n ('seventh', 'day', 'from'),\n ('day', 'from', 'all'),\n ('from', 'all', 'his'),\n ('all', 'his', 'work'),\n ('had', 'made', '.\\n'),\n ('made', '.\\n', 'and'),\n ('god', 'blessed', 'the'),\n ('blessed', 'the', 'seventh'),\n ('seventh', 'day', ','),\n (',', 'and', 'sanctified'),\n ('and', 'sanctified', 'it'),\n ('sanctified', 'it', ':'),\n ('it', ':', 'because'),\n (':', 'because', 'that'),\n ('because', 'that', 'in'),\n ('that', 'in', 'it'),\n ('in', 'it', 'he'),\n ('it', 'he', 'had'),\n ('he', 'had', 'rested'),\n ('had', 'rested', 'from'),\n ('rested', 'from', 'all'),\n ('work', 'which', 'god'),\n ('which', 'god', 'created'),\n ('god', 'created', 'and'),\n ('created', 'and', 'made'),\n ('and', 'made', '.\\n'),\n ('made', '.\\n', 'these'),\n ('.\\n', 'these', 'are'),\n ('these', 'are', 'the'),\n ('are', 'the', 'generations'),\n ('the', 'generations', 'of'),\n ('generations', 'of', 'the'),\n ('of', 'the', 'heavens'),\n ('heavens', 'and', 'of'),\n ('and', 'of', 'the'),\n ('the', 'earth', 'when'),\n ('earth', 'when', 'they'),\n ('when', 'they', 'were'),\n ('they', 'were', 'created'),\n ('were', 'created', ','),\n ('created', ',', 'in'),\n ('in', 'the', 'day'),\n ('the', 'day', 'that'),\n ('day', 'that', 'the'),\n ('that', 'the', 'lord'),\n ('the', 'lord', 'god'),\n ('lord', 'god', 'made'),\n ('made', 'the', 'earth'),\n ('the', 'earth', 'and'),\n ('earth', 'and', 'the'),\n ('and', 'the', 'heavens'),\n ('the', 'heavens', ',\\n'),\n ('heavens', ',\\n', 'and'),\n (',\\n', 'and', 'every'),\n ('and', 'every', 'plant'),\n ('every', 'plant', 'of'),\n ('plant', 'of', 'the'),\n ('of', 'the', 'field'),\n ('the', 'field', 'before'),\n ('field', 'before', 'it'),\n ('before', 'it', 'was'),\n ('it', 'was', 'in'),\n ('was', 'in', 'the'),\n ('and', 'every', 'herb'),\n ('every', 'herb', 'of'),\n ('herb', 'of', 'the'),\n ('before', 'it', 'grew'),\n ('it', 'grew', ':'),\n ('grew', ':', 'for'),\n (':', 'for', 'the'),\n ('for', 'the', 'lord'),\n ('lord', 'god', 'had'),\n ('god', 'had', 'not'),\n ('had', 'not', 'caused'),\n ('not', 'caused', 'it'),\n ('caused', 'it', 'to'),\n ('it', 'to', 'rain'),\n ('to', 'rain', 'upon'),\n ('rain', 'upon', 'the'),\n (',', 'and', 'there'),\n ('there', 'was', 'not'),\n ('was', 'not', 'a'),\n ('not', 'a', 'man'),\n ('a', 'man', 'to'),\n ('man', 'to', 'till'),\n ('to', 'till', 'the'),\n ('till', 'the', 'ground'),\n ('the', 'ground', '.\\n'),\n ('ground', '.\\n', 'but'),\n ('.\\n', 'but', 'there'),\n ('but', 'there', 'went'),\n ('there', 'went', 'up'),\n ('went', 'up', 'a'),\n ('up', 'a', 'mist'),\n ('a', 'mist', 'from'),\n ('mist', 'from', 'the'),\n ('from', 'the', 'earth'),\n (',', 'and', 'watered'),\n ('and', 'watered', 'the'),\n ('watered', 'the', 'whole'),\n ('the', 'whole', 'face'),\n ('whole', 'face', 'of'),\n ('of', 'the', 'ground'),\n ('ground', '.\\n', 'and'),\n ('and', 'the', 'lord'),\n ('lord', 'god', 'formed'),\n ('god', 'formed', 'man'),\n ('formed', 'man', 'of'),\n ('man', 'of', 'the'),\n ('of', 'the', 'dust'),\n ('the', 'dust', 'of'),\n ('dust', 'of', 'the'),\n ('the', 'ground', ','),\n ('ground', ',', 'and'),\n (',', 'and', 'breathed'),\n ('and', 'breathed', 'into'),\n ('breathed', 'into', 'his'),\n ('into', 'his', 'nostrils'),\n ('his', 'nostrils', 'the'),\n ('nostrils', 'the', 'breath'),\n ('the', 'breath', 'of'),\n ('breath', 'of', 'life'),\n ('of', 'life', ';'),\n ('life', ';', 'and'),\n (';', 'and', 'man'),\n ('and', 'man', 'became'),\n ('man', 'became', 'a'),\n ('became', 'a', 'living'),\n ('a', 'living', 'soul'),\n ('living', 'soul', '.\\n'),\n ('soul', '.\\n', 'and'),\n ('lord', 'god', 'planted'),\n ('god', 'planted', 'a'),\n ('planted', 'a', 'garden'),\n ('a', 'garden', 'eastward'),\n ('garden', 'eastward', 'in'),\n ('eastward', 'in', 'eden'),\n ('in', 'eden', ';'),\n ('eden', ';', 'and'),\n (';', 'and', 'there'),\n ('and', 'there', 'he'),\n ('there', 'he', 'put'),\n ('he', 'put', 'the'),\n ('put', 'the', 'man'),\n ('the', 'man', 'whom'),\n ('man', 'whom', 'he'),\n ('whom', 'he', 'had'),\n ('he', 'had', 'formed'),\n ('had', 'formed', '.\\n'),\n ('formed', '.\\n', 'and'),\n ('.\\n', 'and', 'out'),\n ('and', 'out', 'of'),\n ('out', 'of', 'the'),\n ('the', 'ground', 'made'),\n ('ground', 'made', 'the'),\n ('made', 'the', 'lord'),\n ('lord', 'god', 'to'),\n ('god', 'to', 'grow'),\n ('to', 'grow', 'every'),\n ('grow', 'every', 'tree'),\n ('every', 'tree', 'that'),\n ('tree', 'that', 'is'),\n ('that', 'is', 'pleasant'),\n ('is', 'pleasant', 'to'),\n ('pleasant', 'to', 'the'),\n ('to', 'the', 'sight'),\n ('the', 'sight', ','),\n ('sight', ',', 'and'),\n (',', 'and', 'good'),\n ('and', 'good', 'for'),\n ('good', 'for', 'food'),\n ('for', 'food', ';'),\n ('food', ';', 'the'),\n (';', 'the', 'tree'),\n ('the', 'tree', 'of'),\n ('tree', 'of', 'life'),\n ('of', 'life', 'also'),\n ('life', 'also', 'in'),\n ('also', 'in', 'the'),\n ('of', 'the', 'garden'),\n ('the', 'garden', ','),\n ('garden', ',', 'and'),\n ('tree', 'of', 'knowledge'),\n ('of', 'knowledge', 'of'),\n ('knowledge', 'of', 'good'),\n ('of', 'good', 'and'),\n ('good', 'and', 'evil'),\n ('and', 'evil', '.\\n'),\n ('evil', '.\\n', 'and'),\n ('.\\n', 'and', 'a'),\n ('and', 'a', 'river'),\n ('a', 'river', 'went'),\n ('river', 'went', 'out'),\n ('went', 'out', 'of'),\n ('out', 'of', 'eden'),\n ('of', 'eden', 'to'),\n ('eden', 'to', 'water'),\n ('to', 'water', 'the'),\n ('water', 'the', 'garden'),\n ('the', 'garden', ';'),\n ('garden', ';', 'and'),\n (';', 'and', 'from'),\n ('and', 'from', 'thence'),\n ('from', 'thence', 'it'),\n ('thence', 'it', 'was'),\n ('it', 'was', 'parted'),\n ('was', 'parted', ','),\n ('parted', ',', 'and'),\n (',', 'and', 'became'),\n ('and', 'became', 'into'),\n ('became', 'into', 'four'),\n ('into', 'four', 'heads'),\n ('four', 'heads', '.\\n'),\n ('heads', '.\\n', 'the'),\n ('.\\n', 'the', 'name'),\n ('the', 'name', 'of'),\n ('name', 'of', 'the'),\n ('of', 'the', 'first'),\n ('the', 'first', 'is'),\n ('first', 'is', 'pison'),\n ('is', 'pison', ':'),\n ('pison', ':', 'that'),\n (':', 'that', 'is'),\n ('that', 'is', 'it'),\n ('is', 'it', 'which'),\n ('it', 'which', 'compasseth'),\n ('which', 'compasseth', 'the'),\n ('compasseth', 'the', 'whole'),\n ('the', 'whole', 'land'),\n ('whole', 'land', 'of'),\n ('land', 'of', 'havilah'),\n ('of', 'havilah', ','),\n ('havilah', ',', 'where'),\n (',', 'where', 'there'),\n ('where', 'there', 'is'),\n ('there', 'is', 'gold'),\n ('is', 'gold', ';\\n'),\n ('gold', ';\\n', 'and'),\n (';\\n', 'and', 'the'),\n ('and', 'the', 'gold'),\n ('the', 'gold', 'of'),\n ('gold', 'of', 'that'),\n ('of', 'that', 'land'),\n ('that', 'land', 'is'),\n ('land', 'is', 'good'),\n ('is', 'good', ':'),\n ('good', ':', 'there'),\n (':', 'there', 'is'),\n ('there', 'is', 'bdellium'),\n ('is', 'bdellium', 'and'),\n ('bdellium', 'and', 'the'),\n ('and', 'the', 'onyx'),\n ('the', 'onyx', 'stone'),\n ('onyx', 'stone', '.\\n'),\n ('stone', '.\\n', 'and'),\n ('and', 'the', 'name'),\n ('of', 'the', 'second'),\n ('the', 'second', 'river'),\n ('second', 'river', 'is'),\n ('river', 'is', 'gihon'),\n ('is', 'gihon', ':'),\n ('gihon', ':', 'the'),\n (':', 'the', 'same'),\n ('the', 'same', 'is'),\n ('same', 'is', 'it'),\n ('is', 'it', 'that'),\n ('it', 'that', 'compasseth'),\n ('that', 'compasseth', 'the'),\n ('land', 'of', 'ethiopia'),\n ('of', 'ethiopia', '.\\n'),\n ('ethiopia', '.\\n', 'and'),\n ('of', 'the', 'third'),\n ('the', 'third', 'river'),\n ('third', 'river', 'is'),\n ('river', 'is', 'hiddekel'),\n ('is', 'hiddekel', ':'),\n ('hiddekel', ':', 'that'),\n ('it', 'which', 'goeth'),\n ('which', 'goeth', 'toward'),\n ('goeth', 'toward', 'the'),\n ('toward', 'the', 'east'),\n ('the', 'east', 'of'),\n ('east', 'of', 'assyria'),\n ('of', 'assyria', '.'),\n ('assyria', '.', 'and'),\n ('and', 'the', 'fourth'),\n ('the', 'fourth', 'river'),\n ('fourth', 'river', 'is'),\n ('river', 'is', 'euphrates'),\n ('is', 'euphrates', '.\\n'),\n ('euphrates', '.\\n', 'and'),\n ('lord', 'god', 'took'),\n ('god', 'took', 'the'),\n ('took', 'the', 'man'),\n ('the', 'man', ','),\n ('man', ',', 'and'),\n (',', 'and', 'put'),\n ('and', 'put', 'him'),\n ('put', 'him', 'into'),\n ('him', 'into', 'the'),\n ('into', 'the', 'garden'),\n ('the', 'garden', 'of'),\n ('garden', 'of', 'eden'),\n ('eden', 'to', 'dress'),\n ('to', 'dress', 'it'),\n ('dress', 'it', 'and'),\n ('it', 'and', 'to'),\n ('and', 'to', 'keep'),\n ('to', 'keep', 'it'),\n ('keep', 'it', '.\\n'),\n ('it', '.\\n', 'and'),\n ('lord', 'god', 'commanded'),\n ('god', 'commanded', 'the'),\n ('commanded', 'the', 'man'),\n ('man', ',', 'saying'),\n ('saying', ',', 'of'),\n (',', 'of', 'every'),\n ('of', 'every', 'tree'),\n ('every', 'tree', 'of'),\n ('tree', 'of', 'the'),\n ('the', 'garden', 'thou'),\n ('garden', 'thou', 'mayest'),\n ('thou', 'mayest', 'freely'),\n ('mayest', 'freely', 'eat'),\n ('freely', 'eat', ':\\n'),\n ('eat', ':\\n', 'but'),\n (':\\n', 'but', 'of'),\n ('but', 'of', 'the'),\n ('of', 'the', 'tree'),\n ('of', 'the', 'knowledge'),\n ('the', 'knowledge', 'of'),\n ('and', 'evil', ','),\n ('evil', ',', 'thou'),\n (',', 'thou', 'shalt'),\n ('thou', 'shalt', 'not'),\n ('shalt', 'not', 'eat'),\n ('not', 'eat', 'of'),\n ('eat', 'of', 'it'),\n ('of', 'it', ':'),\n ('it', ':', 'for'),\n (':', 'for', 'in'),\n ('for', 'in', 'the'),\n ('day', 'that', 'thou'),\n ('that', 'thou', 'eatest'),\n ('thou', 'eatest', 'thereof'),\n ('eatest', 'thereof', 'thou'),\n ('thereof', 'thou', 'shalt'),\n ('thou', 'shalt', 'surely'),\n ('shalt', 'surely', 'die'),\n ('surely', 'die', '.\\n'),\n ('die', '.\\n', 'and'),\n ('lord', 'god', 'said'),\n ('said', ',', 'it'),\n (',', 'it', 'is'),\n ('it', 'is', 'not'),\n ('is', 'not', 'good'),\n ('not', 'good', 'that'),\n ('good', 'that', 'the'),\n ('that', 'the', 'man'),\n ('the', 'man', 'should'),\n ('man', 'should', 'be'),\n ('should', 'be', 'alone'),\n ('be', 'alone', ';'),\n ('alone', ';', 'i'),\n (';', 'i', 'will'),\n ('i', 'will', 'make'),\n ('will', 'make', 'him'),\n ('make', 'him', 'an'),\n ('him', 'an', 'help'),\n ...]"
     },
     "execution_count": 62,
     "metadata": {},
     "output_type": "execute_result"
    }
   ],
   "source": [
    "four_gram = BasicNgram(4, corpus)\n",
    "\n",
    "four_gram.contexts()"
   ],
   "metadata": {
    "collapsed": false,
    "ExecuteTime": {
     "end_time": "2024-08-28T04:11:19.929784991Z",
     "start_time": "2024-08-28T04:11:17.811709444Z"
    }
   },
   "id": "ad7bdbe31b800e66"
  },
  {
   "cell_type": "code",
   "execution_count": 63,
   "outputs": [
    {
     "name": "stdout",
     "output_type": "stream",
     "text": [
      "103\n"
     ]
    },
    {
     "data": {
      "text/plain": "'<$> <$> <$> in the beginning of months : it shall not come nigh the vessels of the altar with thy finger , and put them in your vessels , and the word of the lord ,\\n and to them that are turned back , and saw a woman in the valley of elah , even kenaz .\\n and the priest shall look on him , that he bless himself in the field .\\n for the day .\\n he hath fenced up my way that i can not pass ;\\n turn from him , and his anger was kindled against jacob , and'"
     },
     "execution_count": 63,
     "metadata": {},
     "output_type": "execute_result"
    }
   ],
   "source": [
    "generate_text(four_gram, 4, 100)"
   ],
   "metadata": {
    "collapsed": false,
    "ExecuteTime": {
     "end_time": "2024-08-28T04:11:19.930180346Z",
     "start_time": "2024-08-28T04:11:19.927713841Z"
    }
   },
   "id": "1c524ba16b58807f"
  }
 ],
 "metadata": {
  "kernelspec": {
   "display_name": "Python 3",
   "language": "python",
   "name": "python3"
  },
  "language_info": {
   "codemirror_mode": {
    "name": "ipython",
    "version": 2
   },
   "file_extension": ".py",
   "mimetype": "text/x-python",
   "name": "python",
   "nbconvert_exporter": "python",
   "pygments_lexer": "ipython2",
   "version": "2.7.6"
  }
 },
 "nbformat": 4,
 "nbformat_minor": 5
}
