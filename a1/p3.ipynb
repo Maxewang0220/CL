{
 "cells": [
  {
   "cell_type": "code",
   "execution_count": null,
   "id": "f3b2af67208c9673",
   "metadata": {
    "collapsed": true,
    "is_executing": true
   },
   "outputs": [],
   "source": [
    "import math\n",
    "from collections import Counter"
   ]
  },
  {
   "cell_type": "code",
   "execution_count": null,
   "outputs": [],
   "source": [
    "def read_file(file_path):\n",
    "    words = []\n",
    "    with open(file_path, \"r\", encoding='utf-8') as file:\n",
    "        for line in file:\n",
    "            line_tokens = line.lower().split(\" \")\n",
    "            words += line_tokens\n",
    "    return words\n",
    "\n",
    "# # calculate word pairs pmi\n",
    "def calculate_pmi(corpus, min_count=10):\n",
    "    # # use Counter to count every single word occur times\n",
    "    unigram_freq = Counter(corpus)\n",
    "    # # count every word pair w1,w2 occur times\n",
    "    bigram_freq = Counter(zip(corpus[:-1], corpus[1:]))\n",
    "    # # count the size of the corpus N\n",
    "    N = len(corpus)\n",
    "    \n",
    "    # # ignore the words which occur less than 10 times\n",
    "    valid_words = {word for word, count in unigram_freq.items() if count >= min_count}\n",
    "    \n",
    "    pmi_values = {}\n",
    "    for (w1, w2), bigram_count in bigram_freq.items():\n",
    "        if w1 in valid_words and w2 in valid_words:\n",
    "            c_w1 = unigram_freq[w1]\n",
    "            c_w2 = unigram_freq[w2]\n",
    "            c_w1_w2 = bigram_count\n",
    "            pmi = math.log2((c_w1_w2 * N) / (c_w1 * c_w2))\n",
    "            pmi_values[(w1, w2)] = pmi\n",
    "    \n",
    "    return pmi_values"
   ],
   "metadata": {
    "collapsed": false
   },
   "id": "9b25fbafd498d2e"
  },
  {
   "cell_type": "code",
   "execution_count": null,
   "outputs": [],
   "source": [
    "file_path = './kingjamesbible_tokenized.txt'\n",
    "corpus = read_file(file_path)\n",
    "    \n",
    "pmi_values = calculate_pmi(corpus)\n",
    "    \n",
    "# # sort the pmi in descending order\n",
    "sorted_pmi = sorted(pmi_values.items(), key=lambda item: item[1], reverse=True)\n",
    "    \n",
    "top_20_pmi = sorted_pmi[:20]\n",
    "bottom_20_pmi = sorted_pmi[-20:]\n",
    "    \n",
    "print(\"highest 20 pmi:\")\n",
    "for pair, pmi in top_20_pmi:\n",
    "    print(f\"{pair}: {pmi}\")\n",
    "    \n",
    "print(\"lowest 20 pmi:\")\n",
    "for pair, pmi in bottom_20_pmi:\n",
    "    print(f\"{pair}: {pmi}\")"
   ],
   "metadata": {
    "collapsed": false
   },
   "id": "initial_id"
  }
 ],
 "metadata": {
  "kernelspec": {
   "display_name": "Python 3",
   "language": "python",
   "name": "python3"
  },
  "language_info": {
   "codemirror_mode": {
    "name": "ipython",
    "version": 2
   },
   "file_extension": ".py",
   "mimetype": "text/x-python",
   "name": "python",
   "nbconvert_exporter": "python",
   "pygments_lexer": "ipython2",
   "version": "2.7.6"
  }
 },
 "nbformat": 4,
 "nbformat_minor": 5
}
