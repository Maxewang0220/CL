{
 "cells": [
  {
   "cell_type": "code",
   "execution_count": null,
   "id": "f3b2af67208c9673",
   "metadata": {
    "collapsed": true,
    "is_executing": true
   },
   "outputs": [],
   "source": [
    "import math\n",
    "from collections import Counter"
   ]
  },
  {
   "cell_type": "code",
   "execution_count": null,
   "outputs": [],
   "source": [
    "def read_file(file_path):\n",
    "    words = []\n",
    "    with open(file_path, \"r\", encoding='utf-8') as file:\n",
    "        for line in file:\n",
    "            line_tokens = line.lower().split()\n",
    "            words += line_tokens\n",
    "    return words\n",
    "\n",
    "def calculate_pmi(corpus, min_count=10):\n",
    "    # 计算单词和词对的频率\n",
    "    unigram_freq = Counter(corpus)\n",
    "    bigram_freq = Counter(zip(corpus[:-1], corpus[1:]))\n",
    "    total_words = len(corpus)\n",
    "    \n",
    "    # 过滤掉出现次数少于min_count的单词\n",
    "    valid_words = {word for word, count in unigram_freq.items() if count >= min_count}\n",
    "    \n",
    "    # 计算有效词对的PMI值\n",
    "    pmi_values = {}\n",
    "    for (w1, w2), bigram_count in bigram_freq.items():\n",
    "        if w1 in valid_words and w2 in valid_words:\n",
    "            p_w1 = unigram_freq[w1] / total_words\n",
    "            p_w2 = unigram_freq[w2] / total_words\n",
    "            p_w1_w2 = bigram_count / total_words\n",
    "            pmi = math.log2(p_w1_w2 / (p_w1 * p_w2))\n",
    "            pmi_values[(w1, w2)] = pmi\n",
    "    \n",
    "    return pmi_values"
   ],
   "metadata": {
    "collapsed": false,
    "is_executing": true
   },
   "id": "9b25fbafd498d2e"
  },
  {
   "cell_type": "code",
   "execution_count": null,
   "outputs": [],
   "source": [
    "file_path = './kingjamesbible_tokenized.txt'\n",
    "corpus = read_file(file_path)\n",
    "    \n",
    "pmi_values = calculate_pmi(corpus)\n",
    "    \n",
    "sorted_pmi = sorted(pmi_values.items(), key=lambda item: item[1], reverse=True)\n",
    "    \n",
    "top_20_pmi = sorted_pmi[:20]\n",
    "bottom_20_pmi = sorted_pmi[-20:]\n",
    "    \n",
    "print(\"top 20 pmi:\")\n",
    "for pair, pmi in top_20_pmi:\n",
    "    print(f\"{pair}: {pmi}\")\n",
    "    \n",
    "print(\"bottom 20 pmi:\")\n",
    "for pair, pmi in bottom_20_pmi:\n",
    "    print(f\"{pair}: {pmi}\")"
   ],
   "metadata": {
    "collapsed": false,
    "is_executing": true
   },
   "id": "initial_id"
  }
 ],
 "metadata": {
  "kernelspec": {
   "display_name": "Python 3",
   "language": "python",
   "name": "python3"
  },
  "language_info": {
   "codemirror_mode": {
    "name": "ipython",
    "version": 2
   },
   "file_extension": ".py",
   "mimetype": "text/x-python",
   "name": "python",
   "nbconvert_exporter": "python",
   "pygments_lexer": "ipython2",
   "version": "2.7.6"
  }
 },
 "nbformat": 4,
 "nbformat_minor": 5
}
