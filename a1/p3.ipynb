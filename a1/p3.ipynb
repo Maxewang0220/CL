{
 "cells": [
  {
   "cell_type": "code",
   "execution_count": 1,
   "id": "f3b2af67208c9673",
   "metadata": {
    "collapsed": true,
    "ExecuteTime": {
     "end_time": "2024-08-28T08:44:56.355024400Z",
     "start_time": "2024-08-28T08:44:56.344835461Z"
    }
   },
   "outputs": [],
   "source": [
    "import math\n",
    "from collections import Counter"
   ]
  },
  {
   "cell_type": "code",
   "execution_count": 2,
   "outputs": [],
   "source": [
    "def read_file(file_path):\n",
    "    words = []\n",
    "    with open(file_path, \"r\", encoding='utf-8') as file:\n",
    "        for line in file:\n",
    "            line_tokens = line.lower().split(\" \")\n",
    "            words += line_tokens\n",
    "    return words\n",
    "\n",
    "# # calculate word pairs pmi\n",
    "def calculate_pmi(corpus, min_count=10):\n",
    "    # # use Counter to count every single word occur times\n",
    "    unigram_freq = Counter(corpus)\n",
    "    # # count every word pair w1,w2 occur times\n",
    "    bigram_freq = Counter(zip(corpus[:-1], corpus[1:]))\n",
    "    # # count the size of the corpus N\n",
    "    N = len(corpus)\n",
    "    \n",
    "    # # ignore the words which occur less than 10 times\n",
    "    valid_words = {word for word, count in unigram_freq.items() if count >= min_count}\n",
    "    \n",
    "    pmi_values = {}\n",
    "    for (w1, w2), bigram_count in bigram_freq.items():\n",
    "        if w1 in valid_words and w2 in valid_words:\n",
    "            c_w1 = unigram_freq[w1]\n",
    "            c_w2 = unigram_freq[w2]\n",
    "            c_w1_w2 = bigram_count\n",
    "            pmi = math.log2((c_w1_w2 * N) / (c_w1 * c_w2))\n",
    "            pmi_values[(w1, w2)] = pmi\n",
    "    \n",
    "    return pmi_values"
   ],
   "metadata": {
    "collapsed": false,
    "ExecuteTime": {
     "end_time": "2024-08-28T08:44:56.355472060Z",
     "start_time": "2024-08-28T08:44:56.354051820Z"
    }
   },
   "id": "9b25fbafd498d2e"
  },
  {
   "cell_type": "code",
   "execution_count": 3,
   "outputs": [
    {
     "name": "stdout",
     "output_type": "stream",
     "text": [
      "highest 20 pmi:\n",
      "('ill', 'favoured'): 14.674907888354861\n",
      "('judas', 'iscariot'): 14.47029016874639\n",
      "('curious', 'girdle'): 14.23433529696888\n",
      "('brook', 'kidron'): 14.229282069242593\n",
      "('poureth', 'contempt'): 14.160334715525103\n",
      "('measuring', 'reed'): 14.107720089361681\n",
      "('persecution', 'ariseth'): 14.022831191775168\n",
      "('divers', 'colours'): 14.009775038949721\n",
      "('mary', 'magdalene'): 13.9237725210525\n",
      "('overflowing', 'scourge'): 13.759796785941374\n",
      "('wreathen', 'chains'): 13.594737539670877\n",
      "('fiery', 'furnace'): 13.575372214803947\n",
      "('sharp', 'sickle'): 13.575372214803947\n",
      "('committeth', 'adultery'): 13.556263391856241\n",
      "('earthen', 'vessel'): 13.543663355076609\n",
      "('perpetual', 'desolations'): 13.537404364604926\n",
      "('golden', 'spoon'): 13.49676238010758\n",
      "('bright', 'spot'): 13.472278721839842\n",
      "('tenth', 'deals'): 13.464340902415202\n",
      "('cunning', 'workman'): 13.437868691054012\n",
      "lowest 20 pmi:\n",
      "('into', ','): -7.246995554827266\n",
      "(',', 'me'): -7.270431431411936\n",
      "('this', 'and'): -7.29703574219293\n",
      "('with', '.\\n'): -7.305764813699628\n",
      "('of', 'in'): -7.3188269384586855\n",
      "('to', '.\\n'): -7.4794178489954515\n",
      "('the', 'israel'): -7.490235877940421\n",
      "('shall', 'of'): -7.5391515163592215\n",
      "('of', ','): -7.542269591290053\n",
      "('to', 'in'): -7.551878686456309\n",
      "(',', 'you'): -7.6224748572073695\n",
      "('when', ','): -7.739055474329954\n",
      "('will', 'and'): -7.758961134983667\n",
      "('with', ','): -7.824060725328301\n",
      "('of', 'is'): -8.045872507993428\n",
      "('the', 'said'): -8.125302726792608\n",
      "('all', 'and'): -8.309928545073825\n",
      "('of', 'he'): -8.622069833801765\n",
      "('for', 'and'): -8.98462722637518\n",
      "('of', 'to'): -9.002284505848083\n"
     ]
    }
   ],
   "source": [
    "file_path = './kingjamesbible_tokenized.txt'\n",
    "corpus = read_file(file_path)\n",
    "    \n",
    "pmi_values = calculate_pmi(corpus)\n",
    "    \n",
    "# # sort the pmi in descending order\n",
    "sorted_pmi = sorted(pmi_values.items(), key=lambda item: item[1], reverse=True)\n",
    "    \n",
    "top_20_pmi = sorted_pmi[:20]\n",
    "bottom_20_pmi = sorted_pmi[-20:]\n",
    "    \n",
    "print(\"highest 20 pmi:\")\n",
    "for pair, pmi in top_20_pmi:\n",
    "    print(f\"{pair}: {pmi}\")\n",
    "    \n",
    "print(\"lowest 20 pmi:\")\n",
    "for pair, pmi in bottom_20_pmi:\n",
    "    print(f\"{pair}: {pmi}\")"
   ],
   "metadata": {
    "collapsed": false,
    "ExecuteTime": {
     "end_time": "2024-08-28T08:44:56.750967504Z",
     "start_time": "2024-08-28T08:44:56.354260619Z"
    }
   },
   "id": "initial_id"
  }
 ],
 "metadata": {
  "kernelspec": {
   "display_name": "Python 3",
   "language": "python",
   "name": "python3"
  },
  "language_info": {
   "codemirror_mode": {
    "name": "ipython",
    "version": 2
   },
   "file_extension": ".py",
   "mimetype": "text/x-python",
   "name": "python",
   "nbconvert_exporter": "python",
   "pygments_lexer": "ipython2",
   "version": "2.7.6"
  }
 },
 "nbformat": 4,
 "nbformat_minor": 5
}
